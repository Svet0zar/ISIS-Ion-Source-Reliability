{
 "cells": [
  {
   "cell_type": "markdown",
   "metadata": {},
   "source": [
    "# Preprocessing for User Run 23/03 Sensor Data\n",
    "\n",
    "### Imports"
   ]
  },
  {
   "cell_type": "code",
   "execution_count": 162,
   "metadata": {},
   "outputs": [],
   "source": [
    "import os\n",
    "import pandas as pd"
   ]
  },
  {
   "cell_type": "markdown",
   "metadata": {},
   "source": [
    "### Function to average on a minute base where possible"
   ]
  },
  {
   "cell_type": "code",
   "execution_count": 163,
   "metadata": {},
   "outputs": [],
   "source": [
    "def average_per_min(df):\n",
    "    n_col = len(df.columns)\n",
    "    df['_time'] = pd.to_datetime(df['_time'], utc=True)\n",
    "    df['Date'] = df['_time'].dt.date\n",
    "    df['Hour'] = df['_time'].dt.hour\n",
    "    df['Minute'] = df['_time'].dt.minute\n",
    "    df.drop(['_time'], axis = 1, inplace=True)\n",
    "    \n",
    "    dfn = df.groupby(['Date', 'Hour', 'Minute'])[df.columns[0:n_col-1]].mean()\n",
    "    dfn = dfn.reset_index()\n",
    "    dfn['_time'] = dfn['Date'].astype(str) + ' ' + dfn['Hour'].astype(str) + ':' + dfn['Minute'].astype(str) + ':00'\n",
    "    dfn['_time'] = pd.to_datetime(dfn['_time'], format=\"%Y-%m-%d %H:%M:%S\")\n",
    "    dfn.drop(['Date', 'Hour', 'Minute'], axis = 1, inplace=True)\n",
    "    return dfn"
   ]
  },
  {
   "cell_type": "markdown",
   "metadata": {},
   "source": [
    "### Funtion to read a file ffill and bfill and apply the averaging"
   ]
  },
  {
   "cell_type": "code",
   "execution_count": 164,
   "metadata": {},
   "outputs": [],
   "source": [
    "def read_sensors_and_process(path, df):\n",
    "    file = pd.read_csv(path)\n",
    "    file['_time'] = file['_time'].apply(lambda x: x.split('.')[0])\n",
    "    file['_time'] = pd.to_datetime(file['_time'], format=\"%Y-%m-%d %H:%M:%S\")\n",
    "    file = file.ffill()\n",
    "    file = file.bfill()\n",
    "    filen = average_per_min(file)\n",
    "    df = pd.merge(df, filen, on='_time', how='left')\n",
    "    return df"
   ]
  },
  {
   "cell_type": "markdown",
   "metadata": {},
   "source": [
    "### Getting files from user run"
   ]
  },
  {
   "cell_type": "code",
   "execution_count": 165,
   "metadata": {},
   "outputs": [],
   "source": [
    "files = [file for file in os.listdir('../../Sensor Data/2023_3/') if not file.startswith('.')]"
   ]
  },
  {
   "cell_type": "markdown",
   "metadata": {},
   "source": [
    "### Setting up target dataframe"
   ]
  },
  {
   "cell_type": "code",
   "execution_count": 166,
   "metadata": {},
   "outputs": [],
   "source": [
    "startTime = pd.to_datetime('18/09/2023, 08:30:00', format=\"%d/%m/%Y, %H:%M:%S\")\n",
    "endTime = pd.to_datetime('20/10/2023, 08:30:00', format=\"%d/%m/%Y, %H:%M:%S\")\n",
    "targetDF = pd.DataFrame()\n",
    "targetDF['_time'] = pd.date_range(start=startTime, end=endTime, freq='1min')"
   ]
  },
  {
   "cell_type": "markdown",
   "metadata": {},
   "source": [
    "### Going through each file and applying the previous functions"
   ]
  },
  {
   "cell_type": "code",
   "execution_count": 167,
   "metadata": {},
   "outputs": [],
   "source": [
    "for f in files:\n",
    "    \n",
    "    targetDF = read_sensors_and_process('../../Sensor Data/2023_3/' + f, targetDF)\n",
    "targetDF = targetDF.ffill()\n",
    "targetDF = targetDF.bfill()"
   ]
  },
  {
   "cell_type": "code",
   "execution_count": 168,
   "metadata": {},
   "outputs": [],
   "source": [
    "targetDF['_time'] = targetDF['_time'].dt.strftime(\"%d/%m/%Y, %H:%M:%S\")"
   ]
  },
  {
   "cell_type": "code",
   "execution_count": 169,
   "metadata": {},
   "outputs": [],
   "source": [
    "targetDF.dropna(axis=1, how='all', inplace=True)"
   ]
  },
  {
   "cell_type": "code",
   "execution_count": 170,
   "metadata": {},
   "outputs": [],
   "source": [
    "targetDF.rename(columns={'_time': 'Time'}, inplace=True)"
   ]
  },
  {
   "cell_type": "markdown",
   "metadata": {},
   "source": [
    "### Saving"
   ]
  },
  {
   "cell_type": "code",
   "execution_count": 171,
   "metadata": {},
   "outputs": [],
   "source": [
    "targetDF.to_csv('../../Processed Sensors/2023_3.csv', index=False)"
   ]
  }
 ],
 "metadata": {
  "kernelspec": {
   "display_name": "Python 3",
   "language": "python",
   "name": "python3"
  },
  "language_info": {
   "codemirror_mode": {
    "name": "ipython",
    "version": 3
   },
   "file_extension": ".py",
   "mimetype": "text/x-python",
   "name": "python",
   "nbconvert_exporter": "python",
   "pygments_lexer": "ipython3",
   "version": "3.10.0"
  }
 },
 "nbformat": 4,
 "nbformat_minor": 2
}
