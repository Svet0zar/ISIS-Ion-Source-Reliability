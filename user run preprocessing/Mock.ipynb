{
 "cells": [
  {
   "cell_type": "markdown",
   "metadata": {},
   "source": [
    "# Actual"
   ]
  },
  {
   "cell_type": "code",
   "execution_count": 1,
   "metadata": {},
   "outputs": [],
   "source": [
    "import os\n",
    "import pandas as pd"
   ]
  },
  {
   "cell_type": "code",
   "execution_count": 2,
   "metadata": {},
   "outputs": [],
   "source": [
    "files = [file for file in os.listdir('../../Processed Sensors')]\n",
    "files.sort()"
   ]
  },
  {
   "cell_type": "code",
   "execution_count": 3,
   "metadata": {},
   "outputs": [],
   "source": [
    "read_files = []\n",
    "for file in files:\n",
    "    read_files.append(pd.read_csv('../../Processed Sensors/' + file))"
   ]
  },
  {
   "cell_type": "code",
   "execution_count": 4,
   "metadata": {},
   "outputs": [],
   "source": [
    "cols_file = [read_files[i].columns.tolist() for i in range(len(read_files))]"
   ]
  },
  {
   "cell_type": "code",
   "execution_count": 5,
   "metadata": {},
   "outputs": [],
   "source": [
    "from functools import reduce\n",
    "common_els = reduce(set.intersection, (set(item) for item in cols_file))\n",
    "common_els = list(common_els)"
   ]
  },
  {
   "cell_type": "code",
   "execution_count": 6,
   "metadata": {},
   "outputs": [],
   "source": [
    "read_files = [read_files[i][common_els] for i in range(len(read_files))]"
   ]
  },
  {
   "cell_type": "code",
   "execution_count": 7,
   "metadata": {},
   "outputs": [],
   "source": [
    "downtimeNew = pd.read_excel('../../Raw Data/Equipment downtime data (202310).xlsx')"
   ]
  },
  {
   "cell_type": "code",
   "execution_count": 8,
   "metadata": {},
   "outputs": [
    {
     "name": "stderr",
     "output_type": "stream",
     "text": [
      "/var/folders/nl/8bkjfnbd2k53t1p3_gjy6k9h0000gn/T/ipykernel_7929/29523513.py:11: FutureWarning: The default value of regex will change from True to False in a future version.\n",
      "  pattern_new['Equipment'] = pattern_new['Equipment'].str.replace('[^\\w\\s]', '')\n"
     ]
    }
   ],
   "source": [
    "downtimeNew['FaultDate'] = pd.to_datetime(downtimeNew['FaultDate'], errors='coerce').dt.date\n",
    "downtimeNew['FaultTime'] = downtimeNew['FaultTime'].apply(lambda x: x.strftime('%H:%M:%S') if len(str(x)) > 8 else x)\n",
    "downtimeNew = downtimeNew.dropna(subset=['FaultDate', 'FaultTime'])\n",
    "pattern_new = downtimeNew.iloc[:, :14]\n",
    "pattern_new = pattern_new.drop(['ID', 'DutyOfficer', 'Manager email address'], axis=1)\n",
    "pattern_new['FaultDateTime'] = pd.to_datetime(pattern_new['FaultDate'].astype(str) + ' ' + pattern_new['FaultTime'].astype(str))\n",
    "pattern_new.drop(['FaultDate', 'FaultTime'], axis=1, inplace=True)\n",
    "pattern_new.sort_values(by=['FaultDateTime'], inplace=True)\n",
    "pattern_new = pattern_new.drop(['LogEntry', 'DutyOfficer comments', 'Managerscomments', 'FaultRepair', 'FaultDescription', 'Group', 'Downtime'], axis=1)\n",
    "pattern_new['Equipment'] = pattern_new['Equipment'].str.lower()\n",
    "pattern_new['Equipment'] = pattern_new['Equipment'].str.replace('[^\\w\\s]', '')\n",
    "pattern_new = pattern_new[pattern_new['Equipment'] == 'ion source']"
   ]
  },
  {
   "cell_type": "code",
   "execution_count": 9,
   "metadata": {},
   "outputs": [],
   "source": [
    "userruns = ['18/04', '19/01', '19/02', '19/03', '20/01', '20/02', '20/03', '21/01', '21/02', '22/01', '22/02', '22/03', '22/04', '22/05', '23/01', '23/02', '23/03']"
   ]
  },
  {
   "cell_type": "code",
   "execution_count": 10,
   "metadata": {},
   "outputs": [],
   "source": [
    "isrcFailRuns = [pattern_new[pattern_new['User Run'] == ur] for ur in userruns]"
   ]
  },
  {
   "cell_type": "code",
   "execution_count": 11,
   "metadata": {},
   "outputs": [],
   "source": [
    "for i in range(len(read_files)):\n",
    "    read_files[i]['Label'] = 0\n",
    "    read_files[i]['Time'] = pd.to_datetime(read_files[i]['Time'], format='%d/%m/%Y, %H:%M:%S')\n",
    "    for j in range(read_files[i].shape[0]-1):\n",
    "        for el in isrcFailRuns[i]['FaultDateTime']:\n",
    "            if read_files[i]['Time'][j] <= el < read_files[i]['Time'][j+1]:\n",
    "                read_files[i].loc[j, 'Label'] = 1   #['Label'][j] = 1\n",
    "                break"
   ]
  },
  {
   "cell_type": "code",
   "execution_count": 12,
   "metadata": {},
   "outputs": [],
   "source": [
    "twindow = 180"
   ]
  },
  {
   "cell_type": "code",
   "execution_count": 13,
   "metadata": {},
   "outputs": [],
   "source": [
    "for i in range(len(read_files)):\n",
    "    for j in range(read_files[i].shape[0]):\n",
    "        if read_files[i]['Label'][j] == 1:\n",
    "            for k in range(twindow):\n",
    "                if j-k-1 < 0:\n",
    "                    break\n",
    "                read_files[i].loc[j-k-1, 'Label'] = 1"
   ]
  },
  {
   "cell_type": "markdown",
   "metadata": {},
   "source": [
    "### Skipping correlation for now as it is for experimenting stage"
   ]
  },
  {
   "cell_type": "code",
   "execution_count": 14,
   "metadata": {},
   "outputs": [],
   "source": [
    "kbSensors = [\n",
    "    'Time',\n",
    "    'irfq::mag:read_volts',\n",
    "    'irfq::gas:back_press',\n",
    "    'irfq::mag:read_current',\n",
    "    'irfq::arc_dc:read_current',\n",
    "    'irfq::arc_pulser_on:sta',\n",
    "    'irfq::gas:read_press',\n",
    "    'irfq::ion_source:sta',\n",
    "    'irfq::arc_dc:set_current',\n",
    "    'irfq::h2_gas:read_flow',\n",
    "    'irfq::arc_ac:read_current',\n",
    "    'irfq::gas:on',\n",
    "    'irfq::arc_remote:sta',\n",
    "    'irfq::arc_dc_on:sta',\n",
    "    'irfq::arc_dc:on',\n",
    "    'irfq::arc_dc:read_volts',\n",
    "    'irfq::platform:read_volts',\n",
    "    'irfq::isrce_line:read_press',\n",
    "    'irfq::ext:set_volts',\n",
    "    'irfq::mag_on:sta',\n",
    "    'irfq::arc_ac:set_current',\n",
    "    'irfq::ext:read_current',\n",
    "    'irfq::arc_pulser_intlk:sta',\n",
    "    'irfq::ext:read_volts',\n",
    "    'irfq::gas:set_press',\n",
    "    'Label'\n",
    "]"
   ]
  },
  {
   "cell_type": "code",
   "execution_count": 15,
   "metadata": {},
   "outputs": [],
   "source": [
    "rfNew = read_files.copy()"
   ]
  },
  {
   "cell_type": "code",
   "execution_count": 16,
   "metadata": {},
   "outputs": [],
   "source": [
    "rfNew = [rfNew[i][kbSensors] for i in range(len(rfNew))]"
   ]
  },
  {
   "cell_type": "code",
   "execution_count": 17,
   "metadata": {},
   "outputs": [
    {
     "data": {
      "text/plain": [
       "17"
      ]
     },
     "execution_count": 17,
     "metadata": {},
     "output_type": "execute_result"
    }
   ],
   "source": [
    "len(rfNew)"
   ]
  },
  {
   "cell_type": "code",
   "execution_count": 18,
   "metadata": {},
   "outputs": [],
   "source": [
    "X_train = pd.concat(rfNew[:14])\n",
    "X_test = pd.concat(rfNew[14:])"
   ]
  },
  {
   "cell_type": "code",
   "execution_count": 19,
   "metadata": {},
   "outputs": [],
   "source": [
    "y_train = X_train['Label']\n",
    "y_test = X_test['Label']\n",
    "\n",
    "X_train.drop(['Label', 'Time'], axis=1, inplace=True)\n",
    "X_test.drop(['Label', 'Time'], axis=1, inplace=True)"
   ]
  },
  {
   "cell_type": "code",
   "execution_count": 20,
   "metadata": {},
   "outputs": [
    {
     "name": "stdout",
     "output_type": "stream",
     "text": [
      "[[140453      0]\n",
      " [  4990      0]]\n",
      "              precision    recall  f1-score   support\n",
      "\n",
      "           0       0.97      1.00      0.98    140453\n",
      "           1       0.00      0.00      0.00      4990\n",
      "\n",
      "    accuracy                           0.97    145443\n",
      "   macro avg       0.48      0.50      0.49    145443\n",
      "weighted avg       0.93      0.97      0.95    145443\n",
      "\n"
     ]
    },
    {
     "name": "stderr",
     "output_type": "stream",
     "text": [
      "/Library/Frameworks/Python.framework/Versions/3.10/lib/python3.10/site-packages/sklearn/metrics/_classification.py:1469: UndefinedMetricWarning: Precision and F-score are ill-defined and being set to 0.0 in labels with no predicted samples. Use `zero_division` parameter to control this behavior.\n",
      "  _warn_prf(average, modifier, msg_start, len(result))\n",
      "/Library/Frameworks/Python.framework/Versions/3.10/lib/python3.10/site-packages/sklearn/metrics/_classification.py:1469: UndefinedMetricWarning: Precision and F-score are ill-defined and being set to 0.0 in labels with no predicted samples. Use `zero_division` parameter to control this behavior.\n",
      "  _warn_prf(average, modifier, msg_start, len(result))\n",
      "/Library/Frameworks/Python.framework/Versions/3.10/lib/python3.10/site-packages/sklearn/metrics/_classification.py:1469: UndefinedMetricWarning: Precision and F-score are ill-defined and being set to 0.0 in labels with no predicted samples. Use `zero_division` parameter to control this behavior.\n",
      "  _warn_prf(average, modifier, msg_start, len(result))\n"
     ]
    }
   ],
   "source": [
    "from sklearn.ensemble import RandomForestClassifier\n",
    "from sklearn.metrics import confusion_matrix\n",
    "from sklearn.metrics import classification_report\n",
    "\n",
    "rf = RandomForestClassifier(\n",
    "    n_estimators=100, \n",
    "    max_depth=10, \n",
    "    random_state=42,\n",
    "    min_samples_split=2,\n",
    "    min_samples_leaf=1,\n",
    "    max_features='sqrt',\n",
    "    bootstrap=True,\n",
    "    criterion='entropy',\n",
    "    n_jobs=-1\n",
    "    )\n",
    "rf.fit(X_train, y_train)\n",
    "\n",
    "y_pred = rf.predict(X_test)\n",
    "\n",
    "print(confusion_matrix(y_test, y_pred))\n",
    "print(classification_report(y_test, y_pred))"
   ]
  },
  {
   "cell_type": "code",
   "execution_count": 21,
   "metadata": {},
   "outputs": [
    {
     "name": "stdout",
     "output_type": "stream",
     "text": [
      "[[139592    861]\n",
      " [  4919     71]]\n",
      "              precision    recall  f1-score   support\n",
      "\n",
      "           0       0.97      0.99      0.98    140453\n",
      "           1       0.08      0.01      0.02      4990\n",
      "\n",
      "    accuracy                           0.96    145443\n",
      "   macro avg       0.52      0.50      0.50    145443\n",
      "weighted avg       0.94      0.96      0.95    145443\n",
      "\n"
     ]
    }
   ],
   "source": [
    "# from xgboost import XGBClassifier\n",
    "\n",
    "# xgb = XGBClassifier(n_estimators=100, max_depth=10, random_state=0)\n",
    "# xgb.fit(X_train, y_train)\n",
    "\n",
    "# y_pred = xgb.predict(X_test)\n",
    "\n",
    "# print(confusion_matrix(y_test, y_pred))\n",
    "# print(classification_report(y_test, y_pred))"
   ]
  },
  {
   "cell_type": "code",
   "execution_count": 22,
   "metadata": {},
   "outputs": [],
   "source": [
    "# from sklearn.svm import SVC\n",
    "\n",
    "# svc = SVC(kernel='rbf', random_state=0)\n",
    "# svc.fit(X_train, y_train)\n",
    "\n",
    "# y_pred = svc.predict(X_test)\n",
    "\n",
    "# print(confusion_matrix(y_test, y_pred))\n",
    "# print(classification_report(y_test, y_pred))"
   ]
  },
  {
   "cell_type": "code",
   "execution_count": 23,
   "metadata": {},
   "outputs": [
    {
     "name": "stdout",
     "output_type": "stream",
     "text": [
      "[[140046    407]\n",
      " [  4893     97]]\n",
      "              precision    recall  f1-score   support\n",
      "\n",
      "           0       0.97      1.00      0.98    140453\n",
      "           1       0.19      0.02      0.04      4990\n",
      "\n",
      "    accuracy                           0.96    145443\n",
      "   macro avg       0.58      0.51      0.51    145443\n",
      "weighted avg       0.94      0.96      0.95    145443\n",
      "\n"
     ]
    },
    {
     "name": "stderr",
     "output_type": "stream",
     "text": [
      "/Library/Frameworks/Python.framework/Versions/3.10/lib/python3.10/site-packages/sklearn/linear_model/_logistic.py:460: ConvergenceWarning: lbfgs failed to converge (status=1):\n",
      "STOP: TOTAL NO. of ITERATIONS REACHED LIMIT.\n",
      "\n",
      "Increase the number of iterations (max_iter) or scale the data as shown in:\n",
      "    https://scikit-learn.org/stable/modules/preprocessing.html\n",
      "Please also refer to the documentation for alternative solver options:\n",
      "    https://scikit-learn.org/stable/modules/linear_model.html#logistic-regression\n",
      "  n_iter_i = _check_optimize_result(\n"
     ]
    }
   ],
   "source": [
    "# from sklearn.linear_model import LogisticRegression\n",
    "# # max iter infinite\n",
    "# lr = LogisticRegression(random_state=0)\n",
    "# lr.fit(X_train, y_train)\n",
    "\n",
    "# y_pred = lr.predict(X_test)\n",
    "\n",
    "# print(confusion_matrix(y_test, y_pred))\n",
    "# print(classification_report(y_test, y_pred))"
   ]
  },
  {
   "cell_type": "code",
   "execution_count": 24,
   "metadata": {},
   "outputs": [
    {
     "name": "stdout",
     "output_type": "stream",
     "text": [
      "[[138305   2148]\n",
      " [  4832    158]]\n",
      "              precision    recall  f1-score   support\n",
      "\n",
      "           0       0.97      0.98      0.98    140453\n",
      "           1       0.07      0.03      0.04      4990\n",
      "\n",
      "    accuracy                           0.95    145443\n",
      "   macro avg       0.52      0.51      0.51    145443\n",
      "weighted avg       0.94      0.95      0.94    145443\n",
      "\n"
     ]
    }
   ],
   "source": [
    "# from sklearn.neighbors import KNeighborsClassifier\n",
    "\n",
    "# knn = KNeighborsClassifier(n_neighbors=5)\n",
    "# knn.fit(X_train, y_train)\n",
    "\n",
    "# y_pred = knn.predict(X_test)\n",
    "\n",
    "# print(confusion_matrix(y_test, y_pred))\n",
    "# print(classification_report(y_test, y_pred))"
   ]
  },
  {
   "cell_type": "code",
   "execution_count": 25,
   "metadata": {},
   "outputs": [],
   "source": [
    "from imblearn.over_sampling import SMOTE\n",
    "\n",
    "smx = SMOTE(random_state=42)#, categorical_features=[0, 1])\n",
    "\n",
    "X_new , y_new = smx.fit_resample(X_train, y_train)"
   ]
  },
  {
   "cell_type": "code",
   "execution_count": 26,
   "metadata": {},
   "outputs": [
    {
     "name": "stdout",
     "output_type": "stream",
     "text": [
      "Unsmoted\n",
      "[[663300 108593]\n",
      " [  8683  41678]]\n",
      "              precision    recall  f1-score   support\n",
      "\n",
      "           0       0.99      0.86      0.92    771893\n",
      "           1       0.28      0.83      0.42     50361\n",
      "\n",
      "    accuracy                           0.86    822254\n",
      "   macro avg       0.63      0.84      0.67    822254\n",
      "weighted avg       0.94      0.86      0.89    822254\n",
      "\n",
      "\n",
      "Test\n",
      "[[136695   3758]\n",
      " [  4449    541]]\n",
      "              precision    recall  f1-score   support\n",
      "\n",
      "           0       0.97      0.97      0.97    140453\n",
      "           1       0.13      0.11      0.12      4990\n",
      "\n",
      "    accuracy                           0.94    145443\n",
      "   macro avg       0.55      0.54      0.54    145443\n",
      "weighted avg       0.94      0.94      0.94    145443\n",
      "\n"
     ]
    }
   ],
   "source": [
    "rf = RandomForestClassifier(n_estimators=100, max_depth=10, random_state=0, n_jobs=-1)\n",
    "rf.fit(X_new, y_new)\n",
    "\n",
    "tr_pred = rf.predict(X_train)\n",
    "\n",
    "y_pred = rf.predict(X_test)\n",
    "\n",
    "print(\"Unsmoted\")\n",
    "print(confusion_matrix(y_train, tr_pred))\n",
    "print(classification_report(y_train, tr_pred))\n",
    "\n",
    "print()     \n",
    "\n",
    "print(\"Test\")\n",
    "print(confusion_matrix(y_test, y_pred))\n",
    "print(classification_report(y_test, y_pred))"
   ]
  },
  {
   "cell_type": "code",
   "execution_count": 27,
   "metadata": {},
   "outputs": [
    {
     "data": {
      "image/png": "[encoded data removed]",
      "text/plain": [
       "<Figure size 2000x1000 with 1 Axes>"
      ]
     },
     "metadata": {},
     "output_type": "display_data"
    }
   ],
   "source": [
    "plott = y_test.to_list()\n",
    "plott = [i+0.01 for i in plott]\n",
    "import matplotlib.pyplot as plt\n",
    "\n",
    "plt.figure(figsize=(20, 10))\n",
    "plt.plot(y_pred, label='Predictions')\n",
    "plt.plot(plott,label='True Labels')\n",
    "plt.legend()\n",
    "plt.show()"
   ]
  },
  {
   "cell_type": "code",
   "execution_count": 28,
   "metadata": {},
   "outputs": [
    {
     "name": "stdout",
     "output_type": "stream",
     "text": [
      "unsmoted\n",
      "[[767111   4782]\n",
      " [  5535  44826]]\n",
      "              precision    recall  f1-score   support\n",
      "\n",
      "           0       0.99      0.99      0.99    771893\n",
      "           1       0.90      0.89      0.90     50361\n",
      "\n",
      "    accuracy                           0.99    822254\n",
      "   macro avg       0.95      0.94      0.95    822254\n",
      "weighted avg       0.99      0.99      0.99    822254\n",
      "\n",
      "\n",
      "test\n",
      "[[137053   3400]\n",
      " [  4703    287]]\n",
      "              precision    recall  f1-score   support\n",
      "\n",
      "           0       0.97      0.98      0.97    140453\n",
      "           1       0.08      0.06      0.07      4990\n",
      "\n",
      "    accuracy                           0.94    145443\n",
      "   macro avg       0.52      0.52      0.52    145443\n",
      "weighted avg       0.94      0.94      0.94    145443\n",
      "\n"
     ]
    }
   ],
   "source": [
    "# xgb = XGBClassifier(n_estimators=100, max_depth=10, random_state=0)\n",
    "# xgb.fit(X_new, y_new)\n",
    "\n",
    "# print('unsmoted')\n",
    "# y_pred = xgb.predict(X_train)\n",
    "\n",
    "# print(confusion_matrix(y_train, y_pred))\n",
    "# print(classification_report(y_train, y_pred))\n",
    "\n",
    "\n",
    "# print()\n",
    "# y_pred = xgb.predict(X_test)\n",
    "\n",
    "# print('test')\n",
    "# print(confusion_matrix(y_test, y_pred))\n",
    "# print(classification_report(y_test, y_pred))"
   ]
  },
  {
   "cell_type": "code",
   "execution_count": 29,
   "metadata": {},
   "outputs": [],
   "source": [
    "# svc = SVC(kernel='rbf', random_state=0)\n",
    "# svc.fit(X_new, y_new)\n",
    "\n",
    "# y_pred = svc.predict(X_test)\n",
    "\n",
    "# print(confusion_matrix(y_test, y_pred))\n",
    "# print(classification_report(y_test, y_pred))"
   ]
  },
  {
   "cell_type": "code",
   "execution_count": 30,
   "metadata": {},
   "outputs": [
    {
     "name": "stdout",
     "output_type": "stream",
     "text": [
      "[[92068 48385]\n",
      " [ 2637  2353]]\n",
      "              precision    recall  f1-score   support\n",
      "\n",
      "           0       0.97      0.66      0.78    140453\n",
      "           1       0.05      0.47      0.08      4990\n",
      "\n",
      "    accuracy                           0.65    145443\n",
      "   macro avg       0.51      0.56      0.43    145443\n",
      "weighted avg       0.94      0.65      0.76    145443\n",
      "\n"
     ]
    },
    {
     "name": "stderr",
     "output_type": "stream",
     "text": [
      "/Library/Frameworks/Python.framework/Versions/3.10/lib/python3.10/site-packages/sklearn/linear_model/_logistic.py:460: ConvergenceWarning: lbfgs failed to converge (status=1):\n",
      "STOP: TOTAL NO. of ITERATIONS REACHED LIMIT.\n",
      "\n",
      "Increase the number of iterations (max_iter) or scale the data as shown in:\n",
      "    https://scikit-learn.org/stable/modules/preprocessing.html\n",
      "Please also refer to the documentation for alternative solver options:\n",
      "    https://scikit-learn.org/stable/modules/linear_model.html#logistic-regression\n",
      "  n_iter_i = _check_optimize_result(\n"
     ]
    }
   ],
   "source": [
    "# ln = LogisticRegression(random_state=0, max_iter=1000)\n",
    "# ln.fit(X_new, y_new)\n",
    "\n",
    "# y_pred = ln.predict(X_test)\n",
    "\n",
    "# print(confusion_matrix(y_test, y_pred))\n",
    "# print(classification_report(y_test, y_pred))"
   ]
  },
  {
   "cell_type": "code",
   "execution_count": 31,
   "metadata": {},
   "outputs": [
    {
     "name": "stdout",
     "output_type": "stream",
     "text": [
      "[[126995  13458]\n",
      " [  4591    399]]\n",
      "              precision    recall  f1-score   support\n",
      "\n",
      "           0       0.97      0.90      0.93    140453\n",
      "           1       0.03      0.08      0.04      4990\n",
      "\n",
      "    accuracy                           0.88    145443\n",
      "   macro avg       0.50      0.49      0.49    145443\n",
      "weighted avg       0.93      0.88      0.90    145443\n",
      "\n"
     ]
    }
   ],
   "source": [
    "# knn = KNeighborsClassifier(n_neighbors=5)\n",
    "# knn.fit(X_new, y_new)\n",
    "\n",
    "# y_pred = knn.predict(X_test)\n",
    "\n",
    "# print(confusion_matrix(y_test, y_pred))\n",
    "# print(classification_report(y_test, y_pred))"
   ]
  },
  {
   "cell_type": "markdown",
   "metadata": {},
   "source": [
    "### Make a true confusion matrix which takes in only the original labels, meaning put 1 to be when isrc failed. \n",
    "For the predictions it will assume tp only if withing a timewindow after the true value lays the actual failure"
   ]
  },
  {
   "cell_type": "markdown",
   "metadata": {},
   "source": [
    "### Try scaling and normalizing"
   ]
  },
  {
   "cell_type": "markdown",
   "metadata": {},
   "source": [
    "PDM from aircrafts lookup\n"
   ]
  },
  {
   "cell_type": "markdown",
   "metadata": {},
   "source": [
    "# Random Forest With specialized predictions"
   ]
  },
  {
   "cell_type": "code",
   "execution_count": 32,
   "metadata": {},
   "outputs": [],
   "source": [
    "# from sklearn.neighbors import KNeighborsClassifier\n",
    "# knn = KNeighborsClassifier(n_neighbors=5)\n",
    "# knn.fit(X_new, y_new)\n",
    "\n",
    "# y_pred = knn.predict(X_test)\n",
    "\n",
    "# tr_pred = knn.predict(X_train)\n",
    "\n",
    "# print(\"Unsmoted\")\n",
    "# print(confusion_matrix(y_train, tr_pred))\n",
    "# print(classification_report(y_train, tr_pred))\n",
    "\n",
    "# print()     \n",
    "\n",
    "# print(\"Test\")\n",
    "# print(confusion_matrix(y_test, y_pred))\n",
    "# print(classification_report(y_test, y_pred))"
   ]
  },
  {
   "cell_type": "code",
   "execution_count": 33,
   "metadata": {},
   "outputs": [
    {
     "name": "stdout",
     "output_type": "stream",
     "text": [
      "Unsmoted\n",
      "[[663300 108593]\n",
      " [  8683  41678]]\n",
      "              precision    recall  f1-score   support\n",
      "\n",
      "           0       0.99      0.86      0.92    771893\n",
      "           1       0.28      0.83      0.42     50361\n",
      "\n",
      "    accuracy                           0.86    822254\n",
      "   macro avg       0.63      0.84      0.67    822254\n",
      "weighted avg       0.94      0.86      0.89    822254\n",
      "\n",
      "\n",
      "Test\n",
      "[[136695   3758]\n",
      " [  4449    541]]\n",
      "              precision    recall  f1-score   support\n",
      "\n",
      "           0       0.97      0.97      0.97    140453\n",
      "           1       0.13      0.11      0.12      4990\n",
      "\n",
      "    accuracy                           0.94    145443\n",
      "   macro avg       0.55      0.54      0.54    145443\n",
      "weighted avg       0.94      0.94      0.94    145443\n",
      "\n"
     ]
    }
   ],
   "source": [
    "rf = RandomForestClassifier(n_estimators=100, max_depth=10, random_state=0, n_jobs=-1)\n",
    "rf.fit(X_new, y_new)\n",
    "\n",
    "tr_pred = rf.predict(X_train)\n",
    "\n",
    "y_pred = rf.predict(X_test)\n",
    "\n",
    "print(\"Unsmoted\")\n",
    "print(confusion_matrix(y_train, tr_pred))\n",
    "print(classification_report(y_train, tr_pred))\n",
    "\n",
    "print()     \n",
    "\n",
    "print(\"Test\")\n",
    "print(confusion_matrix(y_test, y_pred))\n",
    "print(classification_report(y_test, y_pred))"
   ]
  },
  {
   "cell_type": "code",
   "execution_count": 34,
   "metadata": {},
   "outputs": [],
   "source": [
    "import numpy as np\n",
    "def collapse_consecutive_ones(true_labels, predicted_labels):\n",
    "    collapsed_true_labels = []\n",
    "    collapsed_predicted_labels = []\n",
    "\n",
    "    i = 0\n",
    "    while i < len(true_labels):\n",
    "        if true_labels[i] == 1:\n",
    "            j = i + 1\n",
    "            while j < len(true_labels) and true_labels[j] == 1:\n",
    "                j += 1\n",
    "            collapsed_true_labels.append(1)\n",
    "            collapsed_predicted_labels.append(1 if np.any(predicted_labels[i:j]) else 0)\n",
    "            i = j\n",
    "        else:\n",
    "            collapsed_true_labels.append(true_labels[i])\n",
    "            collapsed_predicted_labels.append(predicted_labels[i])\n",
    "            i += 1\n",
    "\n",
    "    return collapsed_true_labels, collapsed_predicted_labels"
   ]
  },
  {
   "cell_type": "code",
   "execution_count": 35,
   "metadata": {},
   "outputs": [],
   "source": [
    "test_list = y_test.to_list()\n",
    "\n",
    "\n",
    "collapsd_true_labels, collapsed_predicted_labels = collapse_consecutive_ones(test_list, y_pred)\n",
    "\n"
   ]
  },
  {
   "cell_type": "code",
   "execution_count": 36,
   "metadata": {},
   "outputs": [
    {
     "name": "stdout",
     "output_type": "stream",
     "text": [
      "Test\n",
      "[[136695   3758]\n",
      " [    10     15]]\n",
      "              precision    recall  f1-score   support\n",
      "\n",
      "           0       1.00      0.97      0.99    140453\n",
      "           1       0.00      0.60      0.01        25\n",
      "\n",
      "    accuracy                           0.97    140478\n",
      "   macro avg       0.50      0.79      0.50    140478\n",
      "weighted avg       1.00      0.97      0.99    140478\n",
      "\n"
     ]
    }
   ],
   "source": [
    "print(\"Test\")\n",
    "print(confusion_matrix(collapsd_true_labels, collapsed_predicted_labels))\n",
    "print(classification_report(collapsd_true_labels, collapsed_predicted_labels))"
   ]
  }
 ],
 "metadata": {
  "kernelspec": {
   "display_name": "Python 3",
   "language": "python",
   "name": "python3"
  },
  "language_info": {
   "codemirror_mode": {
    "name": "ipython",
    "version": 3
   },
   "file_extension": ".py",
   "mimetype": "text/x-python",
   "name": "python",
   "nbconvert_exporter": "python",
   "pygments_lexer": "ipython3",
   "version": "3.10.0"
  }
 },
 "nbformat": 4,
 "nbformat_minor": 2
}
