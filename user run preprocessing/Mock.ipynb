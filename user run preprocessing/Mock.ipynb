{
 "cells": [
  {
   "cell_type": "markdown",
   "metadata": {},
   "source": [
    "# Working out imports and reading files"
   ]
  },
  {
   "cell_type": "markdown",
   "metadata": {},
   "source": [
    "### Imports"
   ]
  },
  {
   "cell_type": "code",
   "execution_count": 198,
   "metadata": {},
   "outputs": [],
   "source": [
    "import os\n",
    "import pandas as pd"
   ]
  },
  {
   "cell_type": "markdown",
   "metadata": {},
   "source": [
    "### Geting sensor file names"
   ]
  },
  {
   "cell_type": "code",
   "execution_count": 199,
   "metadata": {},
   "outputs": [],
   "source": [
    "files = [file for file in os.listdir('../../Processed Sensors')]\n",
    "files.sort()"
   ]
  },
  {
   "cell_type": "markdown",
   "metadata": {},
   "source": [
    "### Reading sensor files"
   ]
  },
  {
   "cell_type": "code",
   "execution_count": 200,
   "metadata": {},
   "outputs": [],
   "source": [
    "read_files = []\n",
    "for file in files:\n",
    "    read_files.append(pd.read_csv('../../Processed Sensors/' + file))"
   ]
  },
  {
   "cell_type": "markdown",
   "metadata": {},
   "source": [
    "### Get each file's columns in a list of lists"
   ]
  },
  {
   "cell_type": "code",
   "execution_count": 201,
   "metadata": {},
   "outputs": [],
   "source": [
    "cols_file = [read_files[i].columns.tolist() for i in range(len(read_files))]"
   ]
  },
  {
   "cell_type": "markdown",
   "metadata": {},
   "source": [
    "### Draw out all the common sensors, since the data is not consistent we need to look at sensors that consistently appear"
   ]
  },
  {
   "cell_type": "code",
   "execution_count": 202,
   "metadata": {},
   "outputs": [],
   "source": [
    "from functools import reduce\n",
    "common_els = reduce(set.intersection, (set(item) for item in cols_file))\n",
    "common_els = list(common_els)"
   ]
  },
  {
   "cell_type": "markdown",
   "metadata": {},
   "source": [
    "### Applying the sensor filters"
   ]
  },
  {
   "cell_type": "code",
   "execution_count": 203,
   "metadata": {},
   "outputs": [],
   "source": [
    "read_files = [read_files[i][common_els] for i in range(len(read_files))]"
   ]
  },
  {
   "cell_type": "markdown",
   "metadata": {},
   "source": [
    "# Working on labelization"
   ]
  },
  {
   "cell_type": "markdown",
   "metadata": {},
   "source": [
    "### Reading and removing unecessary data from the failure excel"
   ]
  },
  {
   "cell_type": "code",
   "execution_count": 204,
   "metadata": {},
   "outputs": [],
   "source": [
    "downtimeNew = pd.read_excel('../../Raw Data/Equipment downtime data (202310).xlsx')"
   ]
  },
  {
   "cell_type": "code",
   "execution_count": 205,
   "metadata": {},
   "outputs": [
    {
     "name": "stderr",
     "output_type": "stream",
     "text": [
      "/var/folders/nl/8bkjfnbd2k53t1p3_gjy6k9h0000gn/T/ipykernel_8466/29523513.py:11: FutureWarning: The default value of regex will change from True to False in a future version.\n",
      "  pattern_new['Equipment'] = pattern_new['Equipment'].str.replace('[^\\w\\s]', '')\n"
     ]
    }
   ],
   "source": [
    "downtimeNew['FaultDate'] = pd.to_datetime(downtimeNew['FaultDate'], errors='coerce').dt.date\n",
    "downtimeNew['FaultTime'] = downtimeNew['FaultTime'].apply(lambda x: x.strftime('%H:%M:%S') if len(str(x)) > 8 else x)\n",
    "downtimeNew = downtimeNew.dropna(subset=['FaultDate', 'FaultTime'])\n",
    "pattern_new = downtimeNew.iloc[:, :14]\n",
    "pattern_new = pattern_new.drop(['ID', 'DutyOfficer', 'Manager email address'], axis=1)\n",
    "pattern_new['FaultDateTime'] = pd.to_datetime(pattern_new['FaultDate'].astype(str) + ' ' + pattern_new['FaultTime'].astype(str))\n",
    "pattern_new.drop(['FaultDate', 'FaultTime'], axis=1, inplace=True)\n",
    "pattern_new.sort_values(by=['FaultDateTime'], inplace=True)\n",
    "pattern_new = pattern_new.drop(['LogEntry', 'DutyOfficer comments', 'Managerscomments', 'FaultRepair', 'FaultDescription', 'Group', 'Downtime'], axis=1)\n",
    "pattern_new['Equipment'] = pattern_new['Equipment'].str.lower()\n",
    "pattern_new['Equipment'] = pattern_new['Equipment'].str.replace('[^\\w\\s]', '')\n",
    "pattern_new = pattern_new[pattern_new['Equipment'] == 'ion source']"
   ]
  },
  {
   "cell_type": "markdown",
   "metadata": {},
   "source": [
    "### Sorting them by user run and labeling the minutes where ion source failed with 1"
   ]
  },
  {
   "cell_type": "code",
   "execution_count": 206,
   "metadata": {},
   "outputs": [],
   "source": [
    "userruns = ['18/04', '19/01', '19/02', '19/03', '20/01', '20/02', '20/03', '21/01', '21/02', '22/01', '22/02', '22/03', '22/04', '22/05', '23/01', '23/02', '23/03']"
   ]
  },
  {
   "cell_type": "code",
   "execution_count": 207,
   "metadata": {},
   "outputs": [],
   "source": [
    "isrcFailRuns = [pattern_new[pattern_new['User Run'] == ur] for ur in userruns]"
   ]
  },
  {
   "cell_type": "code",
   "execution_count": 208,
   "metadata": {},
   "outputs": [],
   "source": [
    "for i in range(len(read_files)):\n",
    "    read_files[i]['Label'] = 0\n",
    "    read_files[i]['Time'] = pd.to_datetime(read_files[i]['Time'], format='%d/%m/%Y, %H:%M:%S')\n",
    "    for j in range(read_files[i].shape[0]-1):\n",
    "        for el in isrcFailRuns[i]['FaultDateTime']:\n",
    "            if read_files[i]['Time'][j] <= el < read_files[i]['Time'][j+1]:\n",
    "                read_files[i].loc[j, 'Label'] = 1   #['Label'][j] = 1\n",
    "                break"
   ]
  },
  {
   "cell_type": "markdown",
   "metadata": {},
   "source": [
    "### Expanding timewindow, make it X minutes before the failure"
   ]
  },
  {
   "cell_type": "code",
   "execution_count": 209,
   "metadata": {},
   "outputs": [],
   "source": [
    "twindow = 2880"
   ]
  },
  {
   "cell_type": "code",
   "execution_count": 210,
   "metadata": {},
   "outputs": [],
   "source": [
    "for i in range(len(read_files)):\n",
    "    for j in range(read_files[i].shape[0]):\n",
    "        if read_files[i]['Label'][j] == 1:\n",
    "            for k in range(twindow):\n",
    "                if j-k-1 < 0:\n",
    "                    break\n",
    "                read_files[i].loc[j-k-1, 'Label'] = 1"
   ]
  },
  {
   "cell_type": "markdown",
   "metadata": {},
   "source": [
    "### Skipping correlation for now as it is for experimenting stage"
   ]
  },
  {
   "cell_type": "code",
   "execution_count": 211,
   "metadata": {},
   "outputs": [],
   "source": [
    "kbSensors = [\n",
    "    'Time',\n",
    "    'irfq::mag:read_volts',\n",
    "    'irfq::gas:back_press',\n",
    "    'irfq::mag:read_current',\n",
    "    'irfq::arc_dc:read_current',\n",
    "    'irfq::arc_pulser_on:sta',\n",
    "    'irfq::gas:read_press',\n",
    "    'irfq::ion_source:sta',\n",
    "    'irfq::arc_dc:set_current',\n",
    "    'irfq::h2_gas:read_flow',\n",
    "    'irfq::arc_ac:read_current',\n",
    "    'irfq::gas:on',\n",
    "    'irfq::arc_remote:sta',\n",
    "    'irfq::arc_dc_on:sta',\n",
    "    'irfq::arc_dc:on',\n",
    "    'irfq::arc_dc:read_volts',\n",
    "    'irfq::platform:read_volts',\n",
    "    'irfq::isrce_line:read_press',\n",
    "    'irfq::ext:set_volts',\n",
    "    'irfq::mag_on:sta',\n",
    "    'irfq::arc_ac:set_current',\n",
    "    'irfq::ext:read_current',\n",
    "    'irfq::arc_pulser_intlk:sta',\n",
    "    'irfq::ext:read_volts',\n",
    "    'irfq::gas:set_press',\n",
    "    'Label'\n",
    "]"
   ]
  },
  {
   "cell_type": "code",
   "execution_count": 212,
   "metadata": {},
   "outputs": [],
   "source": [
    "rfNew = read_files.copy()"
   ]
  },
  {
   "cell_type": "code",
   "execution_count": 213,
   "metadata": {},
   "outputs": [],
   "source": [
    "rfNew = [rfNew[i][kbSensors] for i in range(len(rfNew))]"
   ]
  },
  {
   "cell_type": "markdown",
   "metadata": {},
   "source": [
    "### Setting up the training and testing sets"
   ]
  },
  {
   "cell_type": "code",
   "execution_count": 215,
   "metadata": {},
   "outputs": [],
   "source": [
    "X_train = pd.concat(rfNew[:14])\n",
    "X_test = pd.concat(rfNew[14:])"
   ]
  },
  {
   "cell_type": "code",
   "execution_count": 216,
   "metadata": {},
   "outputs": [],
   "source": [
    "y_train = X_train['Label']\n",
    "y_test = X_test['Label']\n",
    "\n",
    "X_train.drop(['Label', 'Time'], axis=1, inplace=True)\n",
    "X_test.drop(['Label', 'Time'], axis=1, inplace=True)"
   ]
  },
  {
   "cell_type": "markdown",
   "metadata": {},
   "source": [
    "### Conduct Experiment"
   ]
  },
  {
   "cell_type": "code",
   "execution_count": 217,
   "metadata": {},
   "outputs": [
    {
     "name": "stdout",
     "output_type": "stream",
     "text": [
      "[[28012 64326]\n",
      " [ 8349 44756]]\n",
      "              precision    recall  f1-score   support\n",
      "\n",
      "           0       0.77      0.30      0.44     92338\n",
      "           1       0.41      0.84      0.55     53105\n",
      "\n",
      "    accuracy                           0.50    145443\n",
      "   macro avg       0.59      0.57      0.49    145443\n",
      "weighted avg       0.64      0.50      0.48    145443\n",
      "\n"
     ]
    }
   ],
   "source": [
    "from sklearn.ensemble import RandomForestClassifier\n",
    "from sklearn.metrics import confusion_matrix\n",
    "from sklearn.metrics import classification_report\n",
    "\n",
    "rf = RandomForestClassifier(\n",
    "    n_estimators=100, \n",
    "    max_depth=10, \n",
    "    random_state=42,\n",
    "    min_samples_split=2,\n",
    "    min_samples_leaf=1,\n",
    "    max_features='sqrt',\n",
    "    bootstrap=True,\n",
    "    criterion='entropy',\n",
    "    n_jobs=-1\n",
    "    )\n",
    "rf.fit(X_train, y_train)\n",
    "\n",
    "y_pred = rf.predict(X_test)\n",
    "\n",
    "print(confusion_matrix(y_test, y_pred))\n",
    "print(classification_report(y_test, y_pred))"
   ]
  },
  {
   "cell_type": "code",
   "execution_count": 218,
   "metadata": {},
   "outputs": [
    {
     "data": {
      "image/png": "[encoded data removed]",
      "text/plain": [
       "<Figure size 2000x1000 with 1 Axes>"
      ]
     },
     "metadata": {},
     "output_type": "display_data"
    }
   ],
   "source": [
    "plott = y_test.to_list()\n",
    "plott = [i+0.01 for i in plott]\n",
    "import matplotlib.pyplot as plt\n",
    "\n",
    "plt.figure(figsize=(20, 10))\n",
    "plt.plot(y_pred, label='Predictions')\n",
    "plt.plot(plott,label='True Labels')\n",
    "plt.legend()\n",
    "plt.show()"
   ]
  },
  {
   "cell_type": "code",
   "execution_count": 219,
   "metadata": {},
   "outputs": [],
   "source": [
    "# from xgboost import XGBClassifier\n",
    "\n",
    "# xgb = XGBClassifier(n_estimators=100, max_depth=10, random_state=0)\n",
    "# xgb.fit(X_train, y_train)\n",
    "\n",
    "# y_pred = xgb.predict(X_test)\n",
    "\n",
    "# print(confusion_matrix(y_test, y_pred))\n",
    "# print(classification_report(y_test, y_pred))"
   ]
  },
  {
   "cell_type": "code",
   "execution_count": 220,
   "metadata": {},
   "outputs": [],
   "source": [
    "# from sklearn.svm import SVC\n",
    "\n",
    "# svc = SVC(kernel='rbf', random_state=0)\n",
    "# svc.fit(X_train, y_train)\n",
    "\n",
    "# y_pred = svc.predict(X_test)\n",
    "\n",
    "# print(confusion_matrix(y_test, y_pred))\n",
    "# print(classification_report(y_test, y_pred))"
   ]
  },
  {
   "cell_type": "code",
   "execution_count": 221,
   "metadata": {},
   "outputs": [],
   "source": [
    "# from sklearn.linear_model import LogisticRegression\n",
    "# # max iter infinite\n",
    "# lr = LogisticRegression(random_state=0)\n",
    "# lr.fit(X_train, y_train)\n",
    "\n",
    "# y_pred = lr.predict(X_test)\n",
    "\n",
    "# print(confusion_matrix(y_test, y_pred))\n",
    "# print(classification_report(y_test, y_pred))"
   ]
  },
  {
   "cell_type": "code",
   "execution_count": 222,
   "metadata": {},
   "outputs": [],
   "source": [
    "# from sklearn.neighbors import KNeighborsClassifier\n",
    "\n",
    "# knn = KNeighborsClassifier(n_neighbors=5)\n",
    "# knn.fit(X_train, y_train)\n",
    "\n",
    "# y_pred = knn.predict(X_test)\n",
    "\n",
    "# print(confusion_matrix(y_test, y_pred))\n",
    "# print(classification_report(y_test, y_pred))"
   ]
  },
  {
   "cell_type": "code",
   "execution_count": 223,
   "metadata": {},
   "outputs": [],
   "source": [
    "from imblearn.over_sampling import SMOTE\n",
    "\n",
    "smx = SMOTE(random_state=42)#, categorical_features=[0, 1])\n",
    "\n",
    "X_new , y_new = smx.fit_resample(X_train, y_train)"
   ]
  },
  {
   "cell_type": "code",
   "execution_count": 224,
   "metadata": {},
   "outputs": [
    {
     "name": "stdout",
     "output_type": "stream",
     "text": [
      "Unsmoted\n",
      "[[363523  31731]\n",
      " [ 58370 368630]]\n",
      "              precision    recall  f1-score   support\n",
      "\n",
      "           0       0.86      0.92      0.89    395254\n",
      "           1       0.92      0.86      0.89    427000\n",
      "\n",
      "    accuracy                           0.89    822254\n",
      "   macro avg       0.89      0.89      0.89    822254\n",
      "weighted avg       0.89      0.89      0.89    822254\n",
      "\n",
      "\n",
      "Test\n",
      "[[29427 62911]\n",
      " [10152 42953]]\n",
      "              precision    recall  f1-score   support\n",
      "\n",
      "           0       0.74      0.32      0.45     92338\n",
      "           1       0.41      0.81      0.54     53105\n",
      "\n",
      "    accuracy                           0.50    145443\n",
      "   macro avg       0.57      0.56      0.49    145443\n",
      "weighted avg       0.62      0.50      0.48    145443\n",
      "\n"
     ]
    }
   ],
   "source": [
    "rf = RandomForestClassifier(n_estimators=100, max_depth=10, random_state=0, n_jobs=-1)\n",
    "rf.fit(X_new, y_new)\n",
    "\n",
    "tr_pred = rf.predict(X_train)\n",
    "\n",
    "y_pred = rf.predict(X_test)\n",
    "\n",
    "print(\"Unsmoted\")\n",
    "print(confusion_matrix(y_train, tr_pred))\n",
    "print(classification_report(y_train, tr_pred))\n",
    "\n",
    "print()     \n",
    "\n",
    "print(\"Test\")\n",
    "print(confusion_matrix(y_test, y_pred))\n",
    "print(classification_report(y_test, y_pred))"
   ]
  },
  {
   "cell_type": "code",
   "execution_count": 225,
   "metadata": {},
   "outputs": [
    {
     "data": {
      "image/png": "[encoded data removed]",
      "text/plain": [
       "<Figure size 2000x1000 with 1 Axes>"
      ]
     },
     "metadata": {},
     "output_type": "display_data"
    }
   ],
   "source": [
    "plott = y_test.to_list()\n",
    "plott = [i+0.01 for i in plott]\n",
    "\n",
    "plt.figure(figsize=(20, 10))\n",
    "plt.plot(y_pred, label='Predictions')\n",
    "plt.plot(plott,label='True Labels')\n",
    "plt.legend()\n",
    "plt.show()"
   ]
  },
  {
   "cell_type": "code",
   "execution_count": 226,
   "metadata": {},
   "outputs": [],
   "source": [
    "# xgb = XGBClassifier(n_estimators=100, max_depth=10, random_state=0)\n",
    "# xgb.fit(X_new, y_new)\n",
    "\n",
    "# print('unsmoted')\n",
    "# y_pred = xgb.predict(X_train)\n",
    "\n",
    "# print(confusion_matrix(y_train, y_pred))\n",
    "# print(classification_report(y_train, y_pred))\n",
    "\n",
    "\n",
    "# print()\n",
    "# y_pred = xgb.predict(X_test)\n",
    "\n",
    "# print('test')\n",
    "# print(confusion_matrix(y_test, y_pred))\n",
    "# print(classification_report(y_test, y_pred))"
   ]
  },
  {
   "cell_type": "code",
   "execution_count": 227,
   "metadata": {},
   "outputs": [],
   "source": [
    "# svc = SVC(kernel='rbf', random_state=0)\n",
    "# svc.fit(X_new, y_new)\n",
    "\n",
    "# y_pred = svc.predict(X_test)\n",
    "\n",
    "# print(confusion_matrix(y_test, y_pred))\n",
    "# print(classification_report(y_test, y_pred))"
   ]
  },
  {
   "cell_type": "code",
   "execution_count": 228,
   "metadata": {},
   "outputs": [],
   "source": [
    "# ln = LogisticRegression(random_state=0, max_iter=1000)\n",
    "# ln.fit(X_new, y_new)\n",
    "\n",
    "# y_pred = ln.predict(X_test)\n",
    "\n",
    "# print(confusion_matrix(y_test, y_pred))\n",
    "# print(classification_report(y_test, y_pred))"
   ]
  },
  {
   "cell_type": "code",
   "execution_count": 229,
   "metadata": {},
   "outputs": [],
   "source": [
    "# knn = KNeighborsClassifier(n_neighbors=5)\n",
    "# knn.fit(X_new, y_new)\n",
    "\n",
    "# y_pred = knn.predict(X_test)\n",
    "\n",
    "# print(confusion_matrix(y_test, y_pred))\n",
    "# print(classification_report(y_test, y_pred))"
   ]
  },
  {
   "cell_type": "markdown",
   "metadata": {},
   "source": [
    "### Make a true confusion matrix which takes in only the original labels, meaning put 1 to be when isrc failed. \n",
    "For the predictions it will assume tp only if withing a timewindow after the true value lays the actual failure"
   ]
  },
  {
   "cell_type": "markdown",
   "metadata": {},
   "source": [
    "### Try scaling and normalizing"
   ]
  },
  {
   "cell_type": "markdown",
   "metadata": {},
   "source": [
    "PDM from aircrafts lookup\n"
   ]
  },
  {
   "cell_type": "markdown",
   "metadata": {},
   "source": [
    "# Random Forest With specialized predictions"
   ]
  },
  {
   "cell_type": "code",
   "execution_count": 230,
   "metadata": {},
   "outputs": [],
   "source": [
    "# from sklearn.neighbors import KNeighborsClassifier\n",
    "# knn = KNeighborsClassifier(n_neighbors=5)\n",
    "# knn.fit(X_new, y_new)\n",
    "\n",
    "# y_pred = knn.predict(X_test)\n",
    "\n",
    "# tr_pred = knn.predict(X_train)\n",
    "\n",
    "# print(\"Unsmoted\")\n",
    "# print(confusion_matrix(y_train, tr_pred))\n",
    "# print(classification_report(y_train, tr_pred))\n",
    "\n",
    "# print()     \n",
    "\n",
    "# print(\"Test\")\n",
    "# print(confusion_matrix(y_test, y_pred))\n",
    "# print(classification_report(y_test, y_pred))"
   ]
  },
  {
   "cell_type": "code",
   "execution_count": 231,
   "metadata": {},
   "outputs": [
    {
     "name": "stdout",
     "output_type": "stream",
     "text": [
      "Unsmoted\n",
      "[[363523  31731]\n",
      " [ 58370 368630]]\n",
      "              precision    recall  f1-score   support\n",
      "\n",
      "           0       0.86      0.92      0.89    395254\n",
      "           1       0.92      0.86      0.89    427000\n",
      "\n",
      "    accuracy                           0.89    822254\n",
      "   macro avg       0.89      0.89      0.89    822254\n",
      "weighted avg       0.89      0.89      0.89    822254\n",
      "\n",
      "\n",
      "Test\n",
      "[[29427 62911]\n",
      " [10152 42953]]\n",
      "              precision    recall  f1-score   support\n",
      "\n",
      "           0       0.74      0.32      0.45     92338\n",
      "           1       0.41      0.81      0.54     53105\n",
      "\n",
      "    accuracy                           0.50    145443\n",
      "   macro avg       0.57      0.56      0.49    145443\n",
      "weighted avg       0.62      0.50      0.48    145443\n",
      "\n"
     ]
    }
   ],
   "source": [
    "rf = RandomForestClassifier(n_estimators=100, max_depth=10, random_state=0, n_jobs=-1)\n",
    "rf.fit(X_new, y_new)\n",
    "\n",
    "tr_pred = rf.predict(X_train)\n",
    "\n",
    "y_pred = rf.predict(X_test)\n",
    "\n",
    "print(\"Unsmoted\")\n",
    "print(confusion_matrix(y_train, tr_pred))\n",
    "print(classification_report(y_train, tr_pred))\n",
    "\n",
    "print()     \n",
    "\n",
    "print(\"Test\")\n",
    "print(confusion_matrix(y_test, y_pred))\n",
    "print(classification_report(y_test, y_pred))"
   ]
  },
  {
   "cell_type": "code",
   "execution_count": 232,
   "metadata": {},
   "outputs": [],
   "source": [
    "import numpy as np\n",
    "def collapse_consecutive_ones(true_labels, predicted_labels):\n",
    "    collapsed_true_labels = []\n",
    "    collapsed_predicted_labels = []\n",
    "\n",
    "    i = 0\n",
    "    while i < len(true_labels):\n",
    "        if true_labels[i] == 1:\n",
    "            j = i + 1\n",
    "            while j < len(true_labels) and true_labels[j] == 1:\n",
    "                j += 1\n",
    "            collapsed_true_labels.append(1)\n",
    "            collapsed_predicted_labels.append(1 if np.any(predicted_labels[i:j]) else 0)\n",
    "            i = j\n",
    "        else:\n",
    "            collapsed_true_labels.append(true_labels[i])\n",
    "            collapsed_predicted_labels.append(predicted_labels[i])\n",
    "            i += 1\n",
    "\n",
    "    return collapsed_true_labels, collapsed_predicted_labels"
   ]
  },
  {
   "cell_type": "code",
   "execution_count": 233,
   "metadata": {},
   "outputs": [],
   "source": [
    "test_list = y_test.to_list()\n",
    "\n",
    "\n",
    "collapsd_true_labels, collapsed_predicted_labels = collapse_consecutive_ones(test_list, y_pred)\n",
    "\n"
   ]
  },
  {
   "cell_type": "code",
   "execution_count": 234,
   "metadata": {},
   "outputs": [
    {
     "name": "stdout",
     "output_type": "stream",
     "text": [
      "Test\n",
      "[[29427 62911]\n",
      " [    0    15]]\n",
      "              precision    recall  f1-score   support\n",
      "\n",
      "           0       1.00      0.32      0.48     92338\n",
      "           1       0.00      1.00      0.00        15\n",
      "\n",
      "    accuracy                           0.32     92353\n",
      "   macro avg       0.50      0.66      0.24     92353\n",
      "weighted avg       1.00      0.32      0.48     92353\n",
      "\n"
     ]
    }
   ],
   "source": [
    "print(\"Test\")\n",
    "print(confusion_matrix(collapsd_true_labels, collapsed_predicted_labels))\n",
    "print(classification_report(collapsd_true_labels, collapsed_predicted_labels))"
   ]
  }
 ],
 "metadata": {
  "kernelspec": {
   "display_name": "Python 3",
   "language": "python",
   "name": "python3"
  },
  "language_info": {
   "codemirror_mode": {
    "name": "ipython",
    "version": 3
   },
   "file_extension": ".py",
   "mimetype": "text/x-python",
   "name": "python",
   "nbconvert_exporter": "python",
   "pygments_lexer": "ipython3",
   "version": "3.10.0"
  }
 },
 "nbformat": 4,
 "nbformat_minor": 2
}
