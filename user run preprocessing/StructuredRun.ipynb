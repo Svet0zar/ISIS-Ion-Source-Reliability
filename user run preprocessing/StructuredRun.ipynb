{
 "cells": [
  {
   "cell_type": "markdown",
   "metadata": {},
   "source": [
    "# Structured run of the model experiments"
   ]
  },
  {
   "cell_type": "markdown",
   "metadata": {},
   "source": [
    "### Imports\n",
    "\n",
    "These imports include tools that help with reading the data, preprocessing the data, creating the predictive models and metrics for those models. It also includes interpolation methods."
   ]
  },
  {
   "cell_type": "code",
   "execution_count": 74,
   "metadata": {},
   "outputs": [],
   "source": [
    "from functools import reduce\n",
    "from imblearn.over_sampling import SMOTE\n",
    "from sklearn.ensemble import RandomForestClassifier\n",
    "from sklearn.linear_model import LogisticRegression\n",
    "from sklearn.metrics import confusion_matrix\n",
    "from sklearn.metrics import classification_report\n",
    "from sklearn.neighbors import KNeighborsClassifier\n",
    "from sklearn.svm import SVC\n",
    "from tensorflow.keras.layers import LSTM, Dense\n",
    "from xgboost import XGBClassifier\n",
    "import copy\n",
    "import matplotlib.pyplot as plt\n",
    "import numpy as np\n",
    "import pandas as pd\n",
    "import os\n",
    "import tensorflow as tf"
   ]
  },
  {
   "cell_type": "markdown",
   "metadata": {},
   "source": [
    "### Reading the files"
   ]
  },
  {
   "cell_type": "code",
   "execution_count": 75,
   "metadata": {},
   "outputs": [],
   "source": [
    "def read_processed_sensor_files(location):\n",
    "    \"\"\"\n",
    "    Read processed sensor files.\n",
    "\n",
    "    Parameters:\n",
    "    location (str): Location of the directory containing the files.\n",
    "\n",
    "    Returns:\n",
    "    list: List of DataFrames read from the files.\n",
    "    \"\"\"\n",
    "\n",
    "    # List files in directory and sort them\n",
    "    files = [file for file in os.listdir(location)]\n",
    "    files.sort()\n",
    "\n",
    "    # Read files into a list of DataFrames\n",
    "    read_files = []\n",
    "    for file in files:\n",
    "        # read_files.append(pd.read_csv(location + file))\n",
    "        read_files.append(pd.read_csv(os.path.join(location, file)))  \n",
    "\n",
    "    # Extract columns from each DataFrame\n",
    "    cols_file = [read_files[i].columns.tolist() for i in range(len(read_files))]\n",
    "\n",
    "    # Find common elements across all DataFrames' columns\n",
    "    common_els = reduce(set.intersection, (set(item) for item in cols_file))\n",
    "    common_els = list(common_els)\n",
    "\n",
    "    # Filter columns to keep only common ones\n",
    "    read_files = [read_files[i][common_els] for i in range(len(read_files))]\n",
    "\n",
    "    return read_files"
   ]
  },
  {
   "cell_type": "markdown",
   "metadata": {},
   "source": [
    "Calling read files"
   ]
  },
  {
   "cell_type": "code",
   "execution_count": 76,
   "metadata": {},
   "outputs": [],
   "source": [
    "path_files = '../../Processed Sensors/'\n",
    "files = read_processed_sensor_files(path_files)"
   ]
  },
  {
   "cell_type": "markdown",
   "metadata": {},
   "source": [
    "### Preparing the Downtime Data"
   ]
  },
  {
   "cell_type": "code",
   "execution_count": 77,
   "metadata": {},
   "outputs": [],
   "source": [
    "def process_downtime(location):\n",
    "    \"\"\"\n",
    "    Process downtime data.\n",
    "\n",
    "    Parameters:\n",
    "    downtime (DataFrame): DataFrame containing downtime data.\n",
    "\n",
    "    Returns:\n",
    "    DataFrame: Processed DataFrame with the following columns:\n",
    "        - 'FaultDateTime': Combined fault date and time as datetime.\n",
    "        - 'Duration': Duration of the fault.\n",
    "        - 'Equipment': Equipment type.\n",
    "        - Other columns with relevant information.\n",
    "    \"\"\"\n",
    "\n",
    "    # Read downtime data\n",
    "    downtime = pd.read_excel(location)\n",
    "\n",
    "    # Convert 'FaultDate' to datetime and extract date\n",
    "    downtime['FaultDate'] = pd.to_datetime(downtime['FaultDate'], errors='coerce').dt.date\n",
    "\n",
    "    # Format 'FaultTime' \n",
    "    downtime['FaultTime'] = downtime['FaultTime'].apply(lambda x: x.strftime('%H:%M:%S') if len(str(x)) > 8 else x)\n",
    "\n",
    "    # Drop rows with missing 'FaultDate' or 'FaultTime'\n",
    "    downtime = downtime.dropna(subset=['FaultDate', 'FaultTime'])\n",
    "\n",
    "    # Select relevant columns and drop unnecessary ones\n",
    "    pattern_new = downtime.iloc[:, :14]\n",
    "    pattern_new = pattern_new.drop(['ID', 'DutyOfficer', 'Manager email address'], axis=1)\n",
    "\n",
    "    # Combine 'FaultDate' and 'FaultTime' into 'FaultDateTime'\n",
    "    pattern_new['FaultDateTime'] = pd.to_datetime(pattern_new['FaultDate'].astype(str) + ' ' + pattern_new['FaultTime'].astype(str))\n",
    "\n",
    "    # Drop 'FaultDate' and 'FaultTime' columns\n",
    "    pattern_new.drop(['FaultDate', 'FaultTime'], axis=1, inplace=True)\n",
    "\n",
    "    # Sort by 'FaultDateTime'\n",
    "    pattern_new.sort_values(by=['FaultDateTime'], inplace=True)\n",
    "\n",
    "    # Drop additional unnecessary columns\n",
    "    pattern_new = pattern_new.drop(['LogEntry', 'DutyOfficer comments', 'Managerscomments', 'FaultRepair', 'FaultDescription', 'Group', 'Downtime'], axis=1)\n",
    "\n",
    "    # Convert 'Equipment' to lowercase and remove special characters\n",
    "    pattern_new['Equipment'] = pattern_new['Equipment'].str.lower()\n",
    "    pattern_new['Equipment'] = pattern_new['Equipment'].str.replace('[^\\w\\s]', '', regex=True)\n",
    "\n",
    "    # Filter rows where 'Equipment' is 'ion source'\n",
    "    pattern_new = pattern_new[pattern_new['Equipment'] == 'ion source']\n",
    "\n",
    "    return pattern_new"
   ]
  },
  {
   "cell_type": "markdown",
   "metadata": {},
   "source": [
    "Calling process downtime"
   ]
  },
  {
   "cell_type": "code",
   "execution_count": 78,
   "metadata": {},
   "outputs": [],
   "source": [
    "path_downtime = '../../Raw Data/Equipment downtime data (202310).xlsx'\n",
    "downtime = process_downtime(path_downtime)"
   ]
  },
  {
   "cell_type": "markdown",
   "metadata": {},
   "source": [
    "### Processing user run and intiializing labels"
   ]
  },
  {
   "cell_type": "code",
   "execution_count": 79,
   "metadata": {},
   "outputs": [],
   "source": [
    "def process_user_runs(user_runs, read_files, pattern_new):\n",
    "    \"\"\"\n",
    "    Process user runs and label sensor data.\n",
    "\n",
    "    Parameters:\n",
    "    user_runs (list): List of user runs.\n",
    "    read_files (list): List of DataFrames containing sensor data.\n",
    "    pattern_new (DataFrame): DataFrame containing processed fault pattern data.\n",
    "\n",
    "    Returns:\n",
    "    list: List of DataFrames with labeled sensor data.\n",
    "    \"\"\"\n",
    "\n",
    "    # Generate list of DataFrames for each user run\n",
    "    isrc_fail_runs = [pattern_new[pattern_new['User Run'] == ur] for ur in user_runs]\n",
    "\n",
    "    # Iterate over each DataFrame in read_files\n",
    "    for i in range(len(read_files)):\n",
    "        # Initialize 'Label' column with 0\n",
    "        read_files[i]['Label'] = 0\n",
    "        # Convert 'Time' column to datetime\n",
    "        read_files[i]['Time'] = pd.to_datetime(read_files[i]['Time'], format='%d/%m/%Y, %H:%M:%S')\n",
    "        # Iterate over rows\n",
    "        for j in range(read_files[i].shape[0]-1):\n",
    "            # Check if any fault occurred during the time interval\n",
    "            for el in isrc_fail_runs[i]['FaultDateTime']:\n",
    "                if read_files[i]['Time'][j] <= el < read_files[i]['Time'][j+1]:\n",
    "                    read_files[i].loc[j, 'Label'] = 1\n",
    "                    break\n",
    "\n",
    "    return read_files"
   ]
  },
  {
   "cell_type": "markdown",
   "metadata": {},
   "source": [
    "Calling process user runs"
   ]
  },
  {
   "cell_type": "code",
   "execution_count": 80,
   "metadata": {},
   "outputs": [],
   "source": [
    "userruns = ['18/04', '19/01', '19/02', '19/03', '20/01', '20/02', '20/03', '21/01', '21/02', '22/01', '22/02', '22/03', '22/04', '22/05', '23/01', '23/02', '23/03']\n",
    "processed_files = process_user_runs(userruns, files.copy(), downtime.copy())"
   ]
  },
  {
   "cell_type": "markdown",
   "metadata": {},
   "source": [
    "# Functions with varying results"
   ]
  },
  {
   "cell_type": "markdown",
   "metadata": {},
   "source": [
    "### Time window creation"
   ]
  },
  {
   "cell_type": "code",
   "execution_count": 81,
   "metadata": {},
   "outputs": [],
   "source": [
    "def apply_time_window(read_files_real, twindow):\n",
    "    \"\"\"\n",
    "    Apply a time window to labeled sensor data.\n",
    "\n",
    "    Parameters:\n",
    "    read_files (list): List of DataFrames containing sensor data with labels.\n",
    "    twindow (int): Time window size.\n",
    "\n",
    "    Returns:\n",
    "    list: List of DataFrames with labels adjusted according to the time window.\n",
    "    \"\"\"\n",
    "    read_files = copy.deepcopy(read_files_real)\n",
    "    # Iterate over each DataFrame in read_files\n",
    "    for i in range(len(read_files)):\n",
    "        # Iterate over each row in the DataFrame\n",
    "        for j in range(read_files[i].shape[0]):\n",
    "            # If the label is 1\n",
    "            if read_files[i]['Label'][j] == 1:\n",
    "                # Update labels within the time window\n",
    "                for k in range(twindow):\n",
    "                    if j - k - 1 < 0:\n",
    "                        break\n",
    "                    read_files[i].loc[j - k - 1, 'Label'] = 1\n",
    "\n",
    "    return read_files\n"
   ]
  },
  {
   "cell_type": "markdown",
   "metadata": {},
   "source": [
    "### Sensors to keep"
   ]
  },
  {
   "cell_type": "code",
   "execution_count": 82,
   "metadata": {},
   "outputs": [],
   "source": [
    "KB_SENSORS = [\n",
    "    'Time',\n",
    "    'irfq::mag:read_volts',\n",
    "    'irfq::gas:back_press',\n",
    "    'irfq::mag:read_current',\n",
    "    'irfq::arc_dc:read_current',\n",
    "    'irfq::arc_pulser_on:sta',\n",
    "    'irfq::gas:read_press',\n",
    "    'irfq::ion_source:sta',\n",
    "    'irfq::arc_dc:set_current',\n",
    "    'irfq::h2_gas:read_flow',\n",
    "    'irfq::arc_ac:read_current',\n",
    "    'irfq::gas:on',\n",
    "    'irfq::arc_remote:sta',\n",
    "    'irfq::arc_dc_on:sta',\n",
    "    'irfq::arc_dc:on',\n",
    "    'irfq::arc_dc:read_volts',\n",
    "    'irfq::platform:read_volts',\n",
    "    'irfq::isrce_line:read_press',\n",
    "    'irfq::ext:set_volts',\n",
    "    'irfq::mag_on:sta',\n",
    "    'irfq::arc_ac:set_current',\n",
    "    'irfq::ext:read_current',\n",
    "    'irfq::arc_pulser_intlk:sta',\n",
    "    'irfq::ext:read_volts',\n",
    "    'irfq::gas:set_press',\n",
    "    'Label'\n",
    "]"
   ]
  },
  {
   "cell_type": "markdown",
   "metadata": {},
   "source": [
    "### Sensor filter function"
   ]
  },
  {
   "cell_type": "code",
   "execution_count": 83,
   "metadata": {},
   "outputs": [],
   "source": [
    "def process_sensor_data(rfNew_real, kbSensors):\n",
    "    \"\"\"\n",
    "    Process sensor data for training and testing.\n",
    "\n",
    "    Parameters:\n",
    "    rfNew (list): List of DataFrames containing sensor data.\n",
    "    kbSensors (list): List of columns to keep in the sensor data.\n",
    "\n",
    "    Returns:\n",
    "    tuple: Tuple containing X_train, X_test, y_train, and y_test DataFrames.\n",
    "    \"\"\"\n",
    "    rfNew = copy.deepcopy(rfNew_real)\n",
    "\n",
    "    # Select columns to keep in sensor data\n",
    "\n",
    "    rfNew = [rfNew[i][kbSensors] for i in range(len(rfNew))]\n",
    "\n",
    "    # Concatenate DataFrames for training and testing\n",
    "    X_train = pd.concat(rfNew[:14])\n",
    "    X_test = pd.concat(rfNew[14:])\n",
    "\n",
    "    # Extract labels\n",
    "    y_train = X_train['Label']\n",
    "    y_test = X_test['Label']\n",
    "\n",
    "    # Drop 'Label' and 'Time' columns\n",
    "    X_train.drop(['Label', 'Time'], axis=1, inplace=True)\n",
    "    X_test.drop(['Label', 'Time'], axis=1, inplace=True)\n",
    "\n",
    "    return X_train, X_test, y_train, y_test"
   ]
  },
  {
   "cell_type": "markdown",
   "metadata": {},
   "source": [
    "### Random Forest"
   ]
  },
  {
   "cell_type": "code",
   "execution_count": 84,
   "metadata": {},
   "outputs": [],
   "source": [
    "random_forest = RandomForestClassifier(\n",
    "    n_estimators=100, \n",
    "    max_depth=10, \n",
    "    random_state=42,\n",
    "    min_samples_split=2,\n",
    "    min_samples_leaf=1,\n",
    "    max_features='sqrt',\n",
    "    bootstrap=True,\n",
    "    criterion='entropy',\n",
    "    n_jobs=-1\n",
    "    )"
   ]
  },
  {
   "cell_type": "markdown",
   "metadata": {},
   "source": [
    "### XGBooost"
   ]
  },
  {
   "cell_type": "code",
   "execution_count": 85,
   "metadata": {},
   "outputs": [],
   "source": [
    "xgboost = XGBClassifier(n_estimators=100, max_depth=10, random_state=0)"
   ]
  },
  {
   "cell_type": "markdown",
   "metadata": {},
   "source": [
    "### SVC"
   ]
  },
  {
   "cell_type": "code",
   "execution_count": 86,
   "metadata": {},
   "outputs": [],
   "source": [
    "sv_classifier = SVC(kernel='rbf', random_state=0)"
   ]
  },
  {
   "cell_type": "markdown",
   "metadata": {},
   "source": [
    "### Logistic Regression"
   ]
  },
  {
   "cell_type": "code",
   "execution_count": 87,
   "metadata": {},
   "outputs": [],
   "source": [
    "logistic_regression = LogisticRegression(random_state=0)"
   ]
  },
  {
   "cell_type": "markdown",
   "metadata": {},
   "source": [
    "### K-Nearest-Neighbours"
   ]
  },
  {
   "cell_type": "code",
   "execution_count": 88,
   "metadata": {},
   "outputs": [],
   "source": [
    "knn = KNeighborsClassifier(n_neighbors=5)"
   ]
  },
  {
   "cell_type": "markdown",
   "metadata": {},
   "source": [
    "### Experiment Function"
   ]
  },
  {
   "cell_type": "code",
   "execution_count": 89,
   "metadata": {},
   "outputs": [],
   "source": [
    "def Testing(model, twindow):\n",
    "    \"\"\"\n",
    "    Perform testing with and without SMOTE.\n",
    "\n",
    "    This function applies a time window to processed sensor data, splits it into training and testing sets,\n",
    "    fits a given model to the training data, and evaluates its performance on the testing data using confusion matrix\n",
    "    and classification report. Additionally, it applies SMOTE (Synthetic Minority Over-sampling Technique) to the\n",
    "    training data, fits the model to the resampled data, and evaluates its performance on the testing data.\n",
    "\n",
    "    Parameters:\n",
    "    model: A machine learning model object with fit and predict methods.\n",
    "    twindow (int): Time window size for label adjustment.\n",
    "\n",
    "    Returns:\n",
    "    tuple: A tuple containing confusion matrix and classification report for both the model without SMOTE\n",
    "    (confusion matrix, classification report) and with SMOTE (confusion matrix with SMOTE, classification report with SMOTE).\n",
    "    \"\"\"\n",
    "    labelized_files = apply_time_window(processed_files, twindow)\n",
    "    X_train, X_test, y_train, y_test = process_sensor_data(labelized_files, KB_SENSORS)\n",
    "\n",
    "    # Train model without SMOTE\n",
    "    model_unsmoted = model\n",
    "    model_unsmoted.fit(X_train, y_train)\n",
    "    y_pred = model_unsmoted.predict(X_test)\n",
    "    cm = confusion_matrix(y_test, y_pred)\n",
    "    cr = classification_report(y_test, y_pred, zero_division=0, output_dict=True)\n",
    "\n",
    "    # Apply SMOTE\n",
    "    smoter = SMOTE(random_state=42)\n",
    "    X_train_smote, y_train_smote = smoter.fit_resample(X_train, y_train)\n",
    "\n",
    "    # Train model with SMOTE\n",
    "    model_smoted = model\n",
    "    model_smoted.fit(X_train_smote, y_train_smote)\n",
    "    y_pred_smote = model_smoted.predict(X_test)\n",
    "    cm_smote = confusion_matrix(y_test, y_pred_smote)\n",
    "    cr_smote = classification_report(y_test, y_pred_smote, zero_division=0, output_dict=True)\n",
    "\n",
    "    return cm, cr, cm_smote, cr_smote"
   ]
  },
  {
   "cell_type": "markdown",
   "metadata": {},
   "source": [
    "### Run Experiment"
   ]
  },
  {
   "cell_type": "code",
   "execution_count": 90,
   "metadata": {},
   "outputs": [],
   "source": [
    "twindows = [10, 20, 30, 40, 50, 60, 120, 180, 360, 720, 1440]\n",
    "models = [random_forest, xgboost, logistic_regression, knn]"
   ]
  },
  {
   "cell_type": "code",
   "execution_count": 91,
   "metadata": {},
   "outputs": [
    {
     "name": "stderr",
     "output_type": "stream",
     "text": [
      "/Library/Frameworks/Python.framework/Versions/3.10/lib/python3.10/site-packages/sklearn/linear_model/_logistic.py:460: ConvergenceWarning: lbfgs failed to converge (status=1):\n",
      "STOP: TOTAL NO. of ITERATIONS REACHED LIMIT.\n",
      "\n",
      "Increase the number of iterations (max_iter) or scale the data as shown in:\n",
      "    https://scikit-learn.org/stable/modules/preprocessing.html\n",
      "Please also refer to the documentation for alternative solver options:\n",
      "    https://scikit-learn.org/stable/modules/linear_model.html#logistic-regression\n",
      "  n_iter_i = _check_optimize_result(\n",
      "/Library/Frameworks/Python.framework/Versions/3.10/lib/python3.10/site-packages/sklearn/linear_model/_logistic.py:460: ConvergenceWarning: lbfgs failed to converge (status=1):\n",
      "STOP: TOTAL NO. of ITERATIONS REACHED LIMIT.\n",
      "\n",
      "Increase the number of iterations (max_iter) or scale the data as shown in:\n",
      "    https://scikit-learn.org/stable/modules/preprocessing.html\n",
      "Please also refer to the documentation for alternative solver options:\n",
      "    https://scikit-learn.org/stable/modules/linear_model.html#logistic-regression\n",
      "  n_iter_i = _check_optimize_result(\n",
      "/Library/Frameworks/Python.framework/Versions/3.10/lib/python3.10/site-packages/sklearn/linear_model/_logistic.py:460: ConvergenceWarning: lbfgs failed to converge (status=1):\n",
      "STOP: TOTAL NO. of ITERATIONS REACHED LIMIT.\n",
      "\n",
      "Increase the number of iterations (max_iter) or scale the data as shown in:\n",
      "    https://scikit-learn.org/stable/modules/preprocessing.html\n",
      "Please also refer to the documentation for alternative solver options:\n",
      "    https://scikit-learn.org/stable/modules/linear_model.html#logistic-regression\n",
      "  n_iter_i = _check_optimize_result(\n",
      "/Library/Frameworks/Python.framework/Versions/3.10/lib/python3.10/site-packages/sklearn/linear_model/_logistic.py:460: ConvergenceWarning: lbfgs failed to converge (status=1):\n",
      "STOP: TOTAL NO. of ITERATIONS REACHED LIMIT.\n",
      "\n",
      "Increase the number of iterations (max_iter) or scale the data as shown in:\n",
      "    https://scikit-learn.org/stable/modules/preprocessing.html\n",
      "Please also refer to the documentation for alternative solver options:\n",
      "    https://scikit-learn.org/stable/modules/linear_model.html#logistic-regression\n",
      "  n_iter_i = _check_optimize_result(\n",
      "/Library/Frameworks/Python.framework/Versions/3.10/lib/python3.10/site-packages/sklearn/linear_model/_logistic.py:460: ConvergenceWarning: lbfgs failed to converge (status=1):\n",
      "STOP: TOTAL NO. of ITERATIONS REACHED LIMIT.\n",
      "\n",
      "Increase the number of iterations (max_iter) or scale the data as shown in:\n",
      "    https://scikit-learn.org/stable/modules/preprocessing.html\n",
      "Please also refer to the documentation for alternative solver options:\n",
      "    https://scikit-learn.org/stable/modules/linear_model.html#logistic-regression\n",
      "  n_iter_i = _check_optimize_result(\n",
      "/Library/Frameworks/Python.framework/Versions/3.10/lib/python3.10/site-packages/sklearn/linear_model/_logistic.py:460: ConvergenceWarning: lbfgs failed to converge (status=1):\n",
      "STOP: TOTAL NO. of ITERATIONS REACHED LIMIT.\n",
      "\n",
      "Increase the number of iterations (max_iter) or scale the data as shown in:\n",
      "    https://scikit-learn.org/stable/modules/preprocessing.html\n",
      "Please also refer to the documentation for alternative solver options:\n",
      "    https://scikit-learn.org/stable/modules/linear_model.html#logistic-regression\n",
      "  n_iter_i = _check_optimize_result(\n",
      "/Library/Frameworks/Python.framework/Versions/3.10/lib/python3.10/site-packages/sklearn/linear_model/_logistic.py:460: ConvergenceWarning: lbfgs failed to converge (status=1):\n",
      "STOP: TOTAL NO. of ITERATIONS REACHED LIMIT.\n",
      "\n",
      "Increase the number of iterations (max_iter) or scale the data as shown in:\n",
      "    https://scikit-learn.org/stable/modules/preprocessing.html\n",
      "Please also refer to the documentation for alternative solver options:\n",
      "    https://scikit-learn.org/stable/modules/linear_model.html#logistic-regression\n",
      "  n_iter_i = _check_optimize_result(\n",
      "/Library/Frameworks/Python.framework/Versions/3.10/lib/python3.10/site-packages/sklearn/linear_model/_logistic.py:460: ConvergenceWarning: lbfgs failed to converge (status=1):\n",
      "STOP: TOTAL NO. of ITERATIONS REACHED LIMIT.\n",
      "\n",
      "Increase the number of iterations (max_iter) or scale the data as shown in:\n",
      "    https://scikit-learn.org/stable/modules/preprocessing.html\n",
      "Please also refer to the documentation for alternative solver options:\n",
      "    https://scikit-learn.org/stable/modules/linear_model.html#logistic-regression\n",
      "  n_iter_i = _check_optimize_result(\n",
      "/Library/Frameworks/Python.framework/Versions/3.10/lib/python3.10/site-packages/sklearn/linear_model/_logistic.py:460: ConvergenceWarning: lbfgs failed to converge (status=1):\n",
      "STOP: TOTAL NO. of ITERATIONS REACHED LIMIT.\n",
      "\n",
      "Increase the number of iterations (max_iter) or scale the data as shown in:\n",
      "    https://scikit-learn.org/stable/modules/preprocessing.html\n",
      "Please also refer to the documentation for alternative solver options:\n",
      "    https://scikit-learn.org/stable/modules/linear_model.html#logistic-regression\n",
      "  n_iter_i = _check_optimize_result(\n",
      "/Library/Frameworks/Python.framework/Versions/3.10/lib/python3.10/site-packages/sklearn/linear_model/_logistic.py:460: ConvergenceWarning: lbfgs failed to converge (status=1):\n",
      "STOP: TOTAL NO. of ITERATIONS REACHED LIMIT.\n",
      "\n",
      "Increase the number of iterations (max_iter) or scale the data as shown in:\n",
      "    https://scikit-learn.org/stable/modules/preprocessing.html\n",
      "Please also refer to the documentation for alternative solver options:\n",
      "    https://scikit-learn.org/stable/modules/linear_model.html#logistic-regression\n",
      "  n_iter_i = _check_optimize_result(\n",
      "/Library/Frameworks/Python.framework/Versions/3.10/lib/python3.10/site-packages/sklearn/linear_model/_logistic.py:460: ConvergenceWarning: lbfgs failed to converge (status=1):\n",
      "STOP: TOTAL NO. of ITERATIONS REACHED LIMIT.\n",
      "\n",
      "Increase the number of iterations (max_iter) or scale the data as shown in:\n",
      "    https://scikit-learn.org/stable/modules/preprocessing.html\n",
      "Please also refer to the documentation for alternative solver options:\n",
      "    https://scikit-learn.org/stable/modules/linear_model.html#logistic-regression\n",
      "  n_iter_i = _check_optimize_result(\n",
      "/Library/Frameworks/Python.framework/Versions/3.10/lib/python3.10/site-packages/sklearn/linear_model/_logistic.py:460: ConvergenceWarning: lbfgs failed to converge (status=1):\n",
      "STOP: TOTAL NO. of ITERATIONS REACHED LIMIT.\n",
      "\n",
      "Increase the number of iterations (max_iter) or scale the data as shown in:\n",
      "    https://scikit-learn.org/stable/modules/preprocessing.html\n",
      "Please also refer to the documentation for alternative solver options:\n",
      "    https://scikit-learn.org/stable/modules/linear_model.html#logistic-regression\n",
      "  n_iter_i = _check_optimize_result(\n",
      "/Library/Frameworks/Python.framework/Versions/3.10/lib/python3.10/site-packages/sklearn/linear_model/_logistic.py:460: ConvergenceWarning: lbfgs failed to converge (status=1):\n",
      "STOP: TOTAL NO. of ITERATIONS REACHED LIMIT.\n",
      "\n",
      "Increase the number of iterations (max_iter) or scale the data as shown in:\n",
      "    https://scikit-learn.org/stable/modules/preprocessing.html\n",
      "Please also refer to the documentation for alternative solver options:\n",
      "    https://scikit-learn.org/stable/modules/linear_model.html#logistic-regression\n",
      "  n_iter_i = _check_optimize_result(\n",
      "/Library/Frameworks/Python.framework/Versions/3.10/lib/python3.10/site-packages/sklearn/linear_model/_logistic.py:460: ConvergenceWarning: lbfgs failed to converge (status=1):\n",
      "STOP: TOTAL NO. of ITERATIONS REACHED LIMIT.\n",
      "\n",
      "Increase the number of iterations (max_iter) or scale the data as shown in:\n",
      "    https://scikit-learn.org/stable/modules/preprocessing.html\n",
      "Please also refer to the documentation for alternative solver options:\n",
      "    https://scikit-learn.org/stable/modules/linear_model.html#logistic-regression\n",
      "  n_iter_i = _check_optimize_result(\n",
      "/Library/Frameworks/Python.framework/Versions/3.10/lib/python3.10/site-packages/sklearn/linear_model/_logistic.py:460: ConvergenceWarning: lbfgs failed to converge (status=1):\n",
      "STOP: TOTAL NO. of ITERATIONS REACHED LIMIT.\n",
      "\n",
      "Increase the number of iterations (max_iter) or scale the data as shown in:\n",
      "    https://scikit-learn.org/stable/modules/preprocessing.html\n",
      "Please also refer to the documentation for alternative solver options:\n",
      "    https://scikit-learn.org/stable/modules/linear_model.html#logistic-regression\n",
      "  n_iter_i = _check_optimize_result(\n",
      "/Library/Frameworks/Python.framework/Versions/3.10/lib/python3.10/site-packages/sklearn/linear_model/_logistic.py:460: ConvergenceWarning: lbfgs failed to converge (status=1):\n",
      "STOP: TOTAL NO. of ITERATIONS REACHED LIMIT.\n",
      "\n",
      "Increase the number of iterations (max_iter) or scale the data as shown in:\n",
      "    https://scikit-learn.org/stable/modules/preprocessing.html\n",
      "Please also refer to the documentation for alternative solver options:\n",
      "    https://scikit-learn.org/stable/modules/linear_model.html#logistic-regression\n",
      "  n_iter_i = _check_optimize_result(\n",
      "/Library/Frameworks/Python.framework/Versions/3.10/lib/python3.10/site-packages/sklearn/linear_model/_logistic.py:460: ConvergenceWarning: lbfgs failed to converge (status=1):\n",
      "STOP: TOTAL NO. of ITERATIONS REACHED LIMIT.\n",
      "\n",
      "Increase the number of iterations (max_iter) or scale the data as shown in:\n",
      "    https://scikit-learn.org/stable/modules/preprocessing.html\n",
      "Please also refer to the documentation for alternative solver options:\n",
      "    https://scikit-learn.org/stable/modules/linear_model.html#logistic-regression\n",
      "  n_iter_i = _check_optimize_result(\n",
      "/Library/Frameworks/Python.framework/Versions/3.10/lib/python3.10/site-packages/sklearn/linear_model/_logistic.py:460: ConvergenceWarning: lbfgs failed to converge (status=1):\n",
      "STOP: TOTAL NO. of ITERATIONS REACHED LIMIT.\n",
      "\n",
      "Increase the number of iterations (max_iter) or scale the data as shown in:\n",
      "    https://scikit-learn.org/stable/modules/preprocessing.html\n",
      "Please also refer to the documentation for alternative solver options:\n",
      "    https://scikit-learn.org/stable/modules/linear_model.html#logistic-regression\n",
      "  n_iter_i = _check_optimize_result(\n",
      "/Library/Frameworks/Python.framework/Versions/3.10/lib/python3.10/site-packages/sklearn/linear_model/_logistic.py:460: ConvergenceWarning: lbfgs failed to converge (status=1):\n",
      "STOP: TOTAL NO. of ITERATIONS REACHED LIMIT.\n",
      "\n",
      "Increase the number of iterations (max_iter) or scale the data as shown in:\n",
      "    https://scikit-learn.org/stable/modules/preprocessing.html\n",
      "Please also refer to the documentation for alternative solver options:\n",
      "    https://scikit-learn.org/stable/modules/linear_model.html#logistic-regression\n",
      "  n_iter_i = _check_optimize_result(\n",
      "/Library/Frameworks/Python.framework/Versions/3.10/lib/python3.10/site-packages/sklearn/linear_model/_logistic.py:460: ConvergenceWarning: lbfgs failed to converge (status=1):\n",
      "STOP: TOTAL NO. of ITERATIONS REACHED LIMIT.\n",
      "\n",
      "Increase the number of iterations (max_iter) or scale the data as shown in:\n",
      "    https://scikit-learn.org/stable/modules/preprocessing.html\n",
      "Please also refer to the documentation for alternative solver options:\n",
      "    https://scikit-learn.org/stable/modules/linear_model.html#logistic-regression\n",
      "  n_iter_i = _check_optimize_result(\n",
      "/Library/Frameworks/Python.framework/Versions/3.10/lib/python3.10/site-packages/sklearn/linear_model/_logistic.py:460: ConvergenceWarning: lbfgs failed to converge (status=1):\n",
      "STOP: TOTAL NO. of ITERATIONS REACHED LIMIT.\n",
      "\n",
      "Increase the number of iterations (max_iter) or scale the data as shown in:\n",
      "    https://scikit-learn.org/stable/modules/preprocessing.html\n",
      "Please also refer to the documentation for alternative solver options:\n",
      "    https://scikit-learn.org/stable/modules/linear_model.html#logistic-regression\n",
      "  n_iter_i = _check_optimize_result(\n",
      "/Library/Frameworks/Python.framework/Versions/3.10/lib/python3.10/site-packages/sklearn/linear_model/_logistic.py:460: ConvergenceWarning: lbfgs failed to converge (status=1):\n",
      "STOP: TOTAL NO. of ITERATIONS REACHED LIMIT.\n",
      "\n",
      "Increase the number of iterations (max_iter) or scale the data as shown in:\n",
      "    https://scikit-learn.org/stable/modules/preprocessing.html\n",
      "Please also refer to the documentation for alternative solver options:\n",
      "    https://scikit-learn.org/stable/modules/linear_model.html#logistic-regression\n",
      "  n_iter_i = _check_optimize_result(\n"
     ]
    }
   ],
   "source": [
    "cms = []\n",
    "crs = []\n",
    "cms_smote = []\n",
    "crs_smote = []\n",
    "for model in models:\n",
    "    # print('Model: ', model)\n",
    "    for twindow in twindows:\n",
    "        cm, cr, cm_smote, cr_smote = Testing(model, twindow)\n",
    "        # print('Time window: ', twindow)\n",
    "        # print('Confusion matrix without SMOTE:')\n",
    "        # print(cm)\n",
    "        # print('Classification report without SMOTE:')\n",
    "        # print(cr)\n",
    "        # print('Confusion matrix with SMOTE:')\n",
    "        # print(cm_smote)\n",
    "        # print('Classification report with SMOTE:')\n",
    "        # print(cr_smote)\n",
    "        # print('\\n')\n",
    "        cms.append(cm)\n",
    "        crs.append(cr)\n",
    "        cms_smote.append(cm_smote)\n",
    "        crs_smote.append(cr_smote)"
   ]
  },
  {
   "cell_type": "markdown",
   "metadata": {},
   "source": [
    "### Preparing reports"
   ]
  },
  {
   "cell_type": "code",
   "execution_count": 117,
   "metadata": {},
   "outputs": [],
   "source": [
    "rf_crs = crs[0:11]\n",
    "rf_crs_smote = crs_smote[0:11]\n",
    "xg_crs = crs[11:22]\n",
    "xg_crs_smote = crs_smote[11:22]\n",
    "ln_crs = crs[22:33]\n",
    "ln_crs_smote = crs_smote[22:33]\n",
    "knn_crs = crs[33:44]\n",
    "knn_crs_smote = crs_smote[33:44]"
   ]
  },
  {
   "cell_type": "markdown",
   "metadata": {},
   "source": [
    "### Plot report function"
   ]
  },
  {
   "cell_type": "code",
   "execution_count": 142,
   "metadata": {},
   "outputs": [],
   "source": [
    "def plot_report(report):\n",
    "    accuracies = []\n",
    "    macro_precisions = []\n",
    "    macro_recalls = []\n",
    "    macro_f1s = []\n",
    "    for i in range(len(report)):\n",
    "        accuracies.append(report[i]['accuracy'])\n",
    "        macro_precisions.append(report[i]['macro avg']['precision'])\n",
    "        macro_recalls.append(report[i]['macro avg']['recall'])\n",
    "        macro_f1s.append(report[i]['macro avg']['f1-score'])\n",
    "\n",
    "    plt.figure(figsize=(10, 5))\n",
    "    plt.plot(accuracies, label='Accuracy')\n",
    "    plt.plot(macro_precisions, label='Macro Precision')\n",
    "    plt.plot(macro_recalls, label='Macro Recall')\n",
    "    plt.plot(macro_f1s, label='Macro F1 Score')\n",
    "    plt.title('Random Forest Classifier')\n",
    "    plt.xlabel('Time Window (minutes)')\n",
    "    plt.ylabel('Metric Value')\n",
    "    plt.xticks(range(11), twindows)\n",
    "    plt.legend()\n",
    "    plt.show()"
   ]
  },
  {
   "cell_type": "markdown",
   "metadata": {},
   "source": [
    "Function call"
   ]
  },
  {
   "cell_type": "code",
   "execution_count": 153,
   "metadata": {},
   "outputs": [
    {
     "data": {
      "image/png": "[encoded data removed]",
      "text/plain": [
       "<Figure size 1000x500 with 1 Axes>"
      ]
     },
     "metadata": {},
     "output_type": "display_data"
    }
   ],
   "source": [
    "plot_report(xg_crs)"
   ]
  }
 ],
 "metadata": {
  "kernelspec": {
   "display_name": "Python 3",
   "language": "python",
   "name": "python3"
  },
  "language_info": {
   "codemirror_mode": {
    "name": "ipython",
    "version": 3
   },
   "file_extension": ".py",
   "mimetype": "text/x-python",
   "name": "python",
   "nbconvert_exporter": "python",
   "pygments_lexer": "ipython3",
   "version": "3.10.0"
  }
 },
 "nbformat": 4,
 "nbformat_minor": 2
}
