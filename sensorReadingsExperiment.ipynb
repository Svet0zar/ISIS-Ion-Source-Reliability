{
 "cells": [
  {
   "cell_type": "markdown",
   "metadata": {},
   "source": [
    "### Imports"
   ]
  },
  {
   "cell_type": "code",
   "execution_count": 1893,
   "metadata": {},
   "outputs": [],
   "source": [
    "import pandas as pd"
   ]
  },
  {
   "cell_type": "markdown",
   "metadata": {},
   "source": [
    "### Read Data"
   ]
  },
  {
   "cell_type": "code",
   "execution_count": 1894,
   "metadata": {},
   "outputs": [],
   "source": [
    "downtimeNew = pd.read_excel('Raw Data/Equipment downtime data (202310).xlsx')\n",
    "downtimeNew.to_csv('Raw Data/Equipment downtime data (202310).csv', index=False)\n",
    "sensorsTempRead = pd.read_csv('Sensor Data/irfq__boiler_read_temp-data-11_11_2023, 22_56_28.csv')\n",
    "h2GasFlow = pd.read_csv('Sensor Data/irfq__h2_gas_read_flow-data-11_11_2023, 23_19_19.csv')\n",
    "sensorVolts = pd.read_csv('Sensor Data/irfq__ext_on + irfq__ext_read_current + irfq__ext_read_volts + irfq__ext_set_volts-data-as-joinbyfield-11_11_2023, 23_16_24.csv')"
   ]
  },
  {
   "cell_type": "code",
   "execution_count": 1895,
   "metadata": {},
   "outputs": [
    {
     "name": "stderr",
     "output_type": "stream",
     "text": [
      "/var/folders/nl/8bkjfnbd2k53t1p3_gjy6k9h0000gn/T/ipykernel_42092/3142707672.py:11: FutureWarning: The default value of regex will change from True to False in a future version.\n",
      "  pattern_new['Equipment'] = pattern_new['Equipment'].str.replace('[^\\w\\s]', '')\n"
     ]
    }
   ],
   "source": [
    "downtimeNew['FaultDate'] = pd.to_datetime(downtimeNew['FaultDate'], errors='coerce').dt.date\n",
    "downtimeNew['FaultTime'] = downtimeNew['FaultTime'].apply(lambda x: x.strftime('%H:%M:%S') if len(str(x)) > 8 else x)\n",
    "downtimeNew = downtimeNew.dropna(subset=['FaultDate', 'FaultTime'])\n",
    "pattern_new = downtimeNew.iloc[:, :14]\n",
    "pattern_new = pattern_new.drop(['ID', 'DutyOfficer', 'Manager email address'], axis=1)\n",
    "pattern_new['FaultDateTime'] = pd.to_datetime(pattern_new['FaultDate'].astype(str) + ' ' + pattern_new['FaultTime'].astype(str))\n",
    "pattern_new.drop(['FaultDate', 'FaultTime'], axis=1, inplace=True)\n",
    "pattern_new.sort_values(by=['FaultDateTime'], inplace=True)\n",
    "pattern_new = pattern_new.drop(['LogEntry', 'DutyOfficer comments', 'Managerscomments', 'FaultRepair', 'FaultDescription', 'Group', 'Downtime'], axis=1)\n",
    "pattern_new['Equipment'] = pattern_new['Equipment'].str.lower()\n",
    "pattern_new['Equipment'] = pattern_new['Equipment'].str.replace('[^\\w\\s]', '')"
   ]
  },
  {
   "cell_type": "code",
   "execution_count": 1896,
   "metadata": {},
   "outputs": [],
   "source": [
    "pattern_new = pattern_new[pattern_new['User Run'] == '23/03']\n",
    "pattern_new.drop(['User Run'], axis=1, inplace=True)"
   ]
  },
  {
   "cell_type": "code",
   "execution_count": 1897,
   "metadata": {},
   "outputs": [],
   "source": [
    "failed = pattern_new[pattern_new['Equipment'] == 'ion source']"
   ]
  },
  {
   "cell_type": "code",
   "execution_count": 1898,
   "metadata": {},
   "outputs": [],
   "source": [
    "sensorVolts.drop([\"irfq::ext:on\",\"irfq::ext:read_current\",\"irfq::ext:set_volts\"], axis=1, inplace=True)\n",
    "sensorVolts.dropna(subset=['irfq::ext:read_volts'], inplace=True)"
   ]
  },
  {
   "cell_type": "code",
   "execution_count": 1899,
   "metadata": {},
   "outputs": [],
   "source": [
    "sensorsTempRead['Time'] = pd.to_datetime(sensorsTempRead['Time'], format=\"%d/%m/%Y, %H:%M:%S\")\n",
    "h2GasFlow['Time'] = pd.to_datetime(h2GasFlow['Time'], format=\"%d/%m/%Y, %H:%M:%S\")\n",
    "sensorVolts['Time'] = pd.to_datetime(sensorVolts['Time'], format=\"%d/%m/%Y, %H:%M:%S\")"
   ]
  },
  {
   "cell_type": "code",
   "execution_count": 1891,
   "metadata": {},
   "outputs": [],
   "source": [
    "sensorsTempRead['Date'] = sensorsTempRead['Time'].dt.date\n",
    "sensorsTempRead['Hour'] = sensorsTempRead['Time'].dt.hour\n",
    "# sensorsTempRead['Minute'] = sensorsTempRead['Time'].dt.minute\n",
    "sensorsTempRead.drop(['Time'], axis=1, inplace=True)\n",
    "\n",
    "h2GasFlow['Date'] = h2GasFlow['Time'].dt.date\n",
    "h2GasFlow['Hour'] = h2GasFlow['Time'].dt.hour\n",
    "# h2GasFlow['Minute'] = h2GasFlow['Time'].dt.minute\n",
    "h2GasFlow.drop(['Time'], axis=1, inplace=True)\n",
    "\n",
    "sensorVolts['Date'] = sensorVolts['Time'].dt.date\n",
    "sensorVolts['Hour'] = sensorVolts['Time'].dt.hour\n",
    "# sensorVolts['Minute'] = sensorVolts['Time'].dt.minute\n",
    "sensorVolts.drop(['Time'], axis=1, inplace=True)"
   ]
  },
  {
   "cell_type": "markdown",
   "metadata": {},
   "source": [
    "Look at n readings. If fail in timestamp in readings range label = 1"
   ]
  },
  {
   "cell_type": "code",
   "execution_count": 1862,
   "metadata": {},
   "outputs": [
    {
     "data": {
      "text/html": [
       "<div>\n",
       "<style scoped>\n",
       "    .dataframe tbody tr th:only-of-type {\n",
       "        vertical-align: middle;\n",
       "    }\n",
       "\n",
       "    .dataframe tbody tr th {\n",
       "        vertical-align: top;\n",
       "    }\n",
       "\n",
       "    .dataframe thead th {\n",
       "        text-align: right;\n",
       "    }\n",
       "</style>\n",
       "<table border=\"1\" class=\"dataframe\">\n",
       "  <thead>\n",
       "    <tr style=\"text-align: right;\">\n",
       "      <th></th>\n",
       "      <th>Timestamp</th>\n",
       "      <th>AvgTempBoiler</th>\n",
       "      <th>AvgGasRead</th>\n",
       "      <th>AvgVolts</th>\n",
       "      <th>Labels</th>\n",
       "    </tr>\n",
       "  </thead>\n",
       "  <tbody>\n",
       "    <tr>\n",
       "      <th>0</th>\n",
       "      <td>2023-09-04 08:00:00</td>\n",
       "      <td>163.277778</td>\n",
       "      <td>14.916667</td>\n",
       "      <td>17.042620</td>\n",
       "      <td>0</td>\n",
       "    </tr>\n",
       "    <tr>\n",
       "      <th>1</th>\n",
       "      <td>2023-09-04 09:00:00</td>\n",
       "      <td>162.947368</td>\n",
       "      <td>14.987500</td>\n",
       "      <td>17.073519</td>\n",
       "      <td>0</td>\n",
       "    </tr>\n",
       "    <tr>\n",
       "      <th>2</th>\n",
       "      <td>2023-09-04 10:00:00</td>\n",
       "      <td>161.975610</td>\n",
       "      <td>14.960606</td>\n",
       "      <td>16.662300</td>\n",
       "      <td>0</td>\n",
       "    </tr>\n",
       "    <tr>\n",
       "      <th>3</th>\n",
       "      <td>2023-09-04 11:00:00</td>\n",
       "      <td>161.991071</td>\n",
       "      <td>14.861404</td>\n",
       "      <td>17.192794</td>\n",
       "      <td>0</td>\n",
       "    </tr>\n",
       "    <tr>\n",
       "      <th>4</th>\n",
       "      <td>2023-09-04 12:00:00</td>\n",
       "      <td>162.000000</td>\n",
       "      <td>14.861290</td>\n",
       "      <td>14.415775</td>\n",
       "      <td>0</td>\n",
       "    </tr>\n",
       "    <tr>\n",
       "      <th>...</th>\n",
       "      <td>...</td>\n",
       "      <td>...</td>\n",
       "      <td>...</td>\n",
       "      <td>...</td>\n",
       "      <td>...</td>\n",
       "    </tr>\n",
       "    <tr>\n",
       "      <th>1172</th>\n",
       "      <td>2023-10-23 04:00:00</td>\n",
       "      <td>NaN</td>\n",
       "      <td>13.701695</td>\n",
       "      <td>17.447054</td>\n",
       "      <td>0</td>\n",
       "    </tr>\n",
       "    <tr>\n",
       "      <th>1173</th>\n",
       "      <td>2023-10-23 05:00:00</td>\n",
       "      <td>NaN</td>\n",
       "      <td>13.700000</td>\n",
       "      <td>17.406813</td>\n",
       "      <td>0</td>\n",
       "    </tr>\n",
       "    <tr>\n",
       "      <th>1174</th>\n",
       "      <td>2023-10-23 06:00:00</td>\n",
       "      <td>NaN</td>\n",
       "      <td>13.700943</td>\n",
       "      <td>17.415240</td>\n",
       "      <td>0</td>\n",
       "    </tr>\n",
       "    <tr>\n",
       "      <th>1175</th>\n",
       "      <td>2023-10-23 07:00:00</td>\n",
       "      <td>NaN</td>\n",
       "      <td>13.700000</td>\n",
       "      <td>17.405798</td>\n",
       "      <td>0</td>\n",
       "    </tr>\n",
       "    <tr>\n",
       "      <th>1176</th>\n",
       "      <td>2023-10-23 08:00:00</td>\n",
       "      <td>NaN</td>\n",
       "      <td>13.700000</td>\n",
       "      <td>17.416559</td>\n",
       "      <td>0</td>\n",
       "    </tr>\n",
       "  </tbody>\n",
       "</table>\n",
       "<p>1177 rows × 5 columns</p>\n",
       "</div>"
      ],
      "text/plain": [
       "               Timestamp  AvgTempBoiler  AvgGasRead   AvgVolts  Labels\n",
       "0    2023-09-04 08:00:00     163.277778   14.916667  17.042620       0\n",
       "1    2023-09-04 09:00:00     162.947368   14.987500  17.073519       0\n",
       "2    2023-09-04 10:00:00     161.975610   14.960606  16.662300       0\n",
       "3    2023-09-04 11:00:00     161.991071   14.861404  17.192794       0\n",
       "4    2023-09-04 12:00:00     162.000000   14.861290  14.415775       0\n",
       "...                  ...            ...         ...        ...     ...\n",
       "1172 2023-10-23 04:00:00            NaN   13.701695  17.447054       0\n",
       "1173 2023-10-23 05:00:00            NaN   13.700000  17.406813       0\n",
       "1174 2023-10-23 06:00:00            NaN   13.700943  17.415240       0\n",
       "1175 2023-10-23 07:00:00            NaN   13.700000  17.405798       0\n",
       "1176 2023-10-23 08:00:00            NaN   13.700000  17.416559       0\n",
       "\n",
       "[1177 rows x 5 columns]"
      ]
     },
     "execution_count": 1862,
     "metadata": {},
     "output_type": "execute_result"
    }
   ],
   "source": [
    "hr_avg = sensorsTempRead.groupby(['Date', 'Hour'])['irfq::boiler:read_temp'].mean()\n",
    "hr_avg = hr_avg.reset_index()\n",
    "hr_avg['Datetime'] = hr_avg['Date'].astype(str) + ' ' + hr_avg['Hour'].astype(str) + ':00:00'\n",
    "hr_avg['Datetime'] = pd.to_datetime(hr_avg['Datetime'], format=\"%Y-%m-%d %H:%M:%S\")\n",
    "\n",
    "# -----------------------------\n",
    "\n",
    "hr_avg_g = h2GasFlow.groupby(['Date', 'Hour'])['irfq::h2_gas:read_flow'].mean()\n",
    "hr_avg_g = hr_avg_g.reset_index()\n",
    "hr_avg_g['Datetime'] = hr_avg_g['Date'].astype(str) + ' ' + hr_avg_g['Hour'].astype(str) + ':00:00'\n",
    "hr_avg_g['Datetime'] = pd.to_datetime(hr_avg_g['Datetime'], format=\"%Y-%m-%d %H:%M:%S\")\n",
    "\n",
    "# -----------------------------\n",
    "\n",
    "avg_volts = sensorVolts.groupby(['Date', 'Hour'])['irfq::ext:read_volts'].mean()\n",
    "avg_volts = avg_volts.reset_index()\n",
    "avg_volts['Datetime'] = avg_volts['Date'].astype(str) + ' ' + avg_volts['Hour'].astype(str) + ':00:00'\n",
    "avg_volts['Datetime'] = pd.to_datetime(avg_volts['Datetime'], format=\"%Y-%m-%d %H:%M:%S\")\n",
    "\n",
    "# -----------------------------\n",
    "\n",
    "dfAvgHr = pd.DataFrame({'Timestamp': avg_volts['Datetime'], \n",
    "    'AvgTempBoiler': hr_avg['irfq::boiler:read_temp'],\n",
    "    'AvgGasRead': hr_avg_g['irfq::h2_gas:read_flow'],\n",
    "    'AvgVolts': avg_volts['irfq::ext:read_volts']})\n",
    "dfAvgHr['Labels'] = 0\n",
    "dfAvgHr"
   ]
  },
  {
   "cell_type": "code",
   "execution_count": 1863,
   "metadata": {},
   "outputs": [],
   "source": [
    "for i in range(dfAvgHr.shape[0]-1):\n",
    "    for el in failed['FaultDateTime']:\n",
    "        if dfAvgHr['Timestamp'][i] <= el <= dfAvgHr['Timestamp'][i+1]:\n",
    "            dfAvgHr.loc[i, 'Labels'] = 1\n",
    "            break\n",
    "labels = dfAvgHr['Labels'].tolist()\n",
    "dfAvgHr.drop(['Labels'], axis=1, inplace=True)"
   ]
  },
  {
   "cell_type": "code",
   "execution_count": 1864,
   "metadata": {},
   "outputs": [
    {
     "data": {
      "text/html": [
       "<div>\n",
       "<style scoped>\n",
       "    .dataframe tbody tr th:only-of-type {\n",
       "        vertical-align: middle;\n",
       "    }\n",
       "\n",
       "    .dataframe tbody tr th {\n",
       "        vertical-align: top;\n",
       "    }\n",
       "\n",
       "    .dataframe thead th {\n",
       "        text-align: right;\n",
       "    }\n",
       "</style>\n",
       "<table border=\"1\" class=\"dataframe\">\n",
       "  <thead>\n",
       "    <tr style=\"text-align: right;\">\n",
       "      <th></th>\n",
       "      <th>AvgTempBoiler</th>\n",
       "      <th>AvgGasRead</th>\n",
       "      <th>AvgVolts</th>\n",
       "    </tr>\n",
       "  </thead>\n",
       "  <tbody>\n",
       "    <tr>\n",
       "      <th>count</th>\n",
       "      <td>983.000000</td>\n",
       "      <td>1177.000000</td>\n",
       "      <td>1177.000000</td>\n",
       "    </tr>\n",
       "    <tr>\n",
       "      <th>mean</th>\n",
       "      <td>159.880594</td>\n",
       "      <td>17.091686</td>\n",
       "      <td>16.857478</td>\n",
       "    </tr>\n",
       "    <tr>\n",
       "      <th>std</th>\n",
       "      <td>19.143958</td>\n",
       "      <td>3.486041</td>\n",
       "      <td>2.318809</td>\n",
       "    </tr>\n",
       "    <tr>\n",
       "      <th>min</th>\n",
       "      <td>20.400000</td>\n",
       "      <td>0.867162</td>\n",
       "      <td>0.175140</td>\n",
       "    </tr>\n",
       "    <tr>\n",
       "      <th>25%</th>\n",
       "      <td>158.000000</td>\n",
       "      <td>14.975325</td>\n",
       "      <td>17.096646</td>\n",
       "    </tr>\n",
       "    <tr>\n",
       "      <th>50%</th>\n",
       "      <td>160.000000</td>\n",
       "      <td>15.497436</td>\n",
       "      <td>17.308513</td>\n",
       "    </tr>\n",
       "    <tr>\n",
       "      <th>75%</th>\n",
       "      <td>165.000000</td>\n",
       "      <td>19.812658</td>\n",
       "      <td>17.489852</td>\n",
       "    </tr>\n",
       "    <tr>\n",
       "      <th>max</th>\n",
       "      <td>548.250000</td>\n",
       "      <td>24.622340</td>\n",
       "      <td>18.051224</td>\n",
       "    </tr>\n",
       "  </tbody>\n",
       "</table>\n",
       "</div>"
      ],
      "text/plain": [
       "       AvgTempBoiler   AvgGasRead     AvgVolts\n",
       "count     983.000000  1177.000000  1177.000000\n",
       "mean      159.880594    17.091686    16.857478\n",
       "std        19.143958     3.486041     2.318809\n",
       "min        20.400000     0.867162     0.175140\n",
       "25%       158.000000    14.975325    17.096646\n",
       "50%       160.000000    15.497436    17.308513\n",
       "75%       165.000000    19.812658    17.489852\n",
       "max       548.250000    24.622340    18.051224"
      ]
     },
     "execution_count": 1864,
     "metadata": {},
     "output_type": "execute_result"
    }
   ],
   "source": [
    "dfAvgHr.describe()"
   ]
  },
  {
   "cell_type": "markdown",
   "metadata": {},
   "source": [
    "Start from behind, if you dont see a 1 in the labels in the feature window, continue, if you see move to the 1 and continue from there\n"
   ]
  },
  {
   "cell_type": "code",
   "execution_count": 1865,
   "metadata": {},
   "outputs": [],
   "source": [
    "twindow = 12\n",
    "tryout = dfAvgHr.copy()\n",
    "tryout.dropna(inplace=True)\n",
    "# for i in range(tryout.shape[0]-1,-1,-1):\n",
    "# start = tryout.loc[0, 'Timestamp']\n",
    "# tryout['Timestamp'] -= start\n",
    "# # tryout\n",
    "# #convert date time into hours\n",
    "# tryout['Timestamp'] = tryout['Timestamp'].dt.total_seconds() / 3600\n",
    "labels = labels[0:tryout.shape[0]]\n",
    "for i in range(len(labels)):\n",
    "    if labels[i] == 1:\n",
    "        if i-twindow < 0:\n",
    "            for j in range(0, i):\n",
    "                labels[j] = 1\n",
    "        else:\n",
    "            for j in range(i-twindow+1, i):\n",
    "                labels[j] = 1"
   ]
  },
  {
   "cell_type": "code",
   "execution_count": 1866,
   "metadata": {},
   "outputs": [],
   "source": [
    "labels = pd.DataFrame(labels, columns=['Labels'])"
   ]
  },
  {
   "cell_type": "code",
   "execution_count": 1867,
   "metadata": {},
   "outputs": [],
   "source": [
    "tryout.drop(['Timestamp'], axis=1, inplace=True)\n",
    "tryout.drop(['AvgTempBoiler'], axis=1, inplace=True)"
   ]
  },
  {
   "cell_type": "code",
   "execution_count": 1868,
   "metadata": {},
   "outputs": [
    {
     "name": "stdout",
     "output_type": "stream",
     "text": [
      "Accuracy: 0.852760736196319, Precision: 1.0, Recall: 0.0, F1: 0.0\n",
      "[[139   0]\n",
      " [ 24   0]]\n",
      "False labels in train set: 168; True labels in train set: 0\n",
      "False labels in test set: 139; True labels in test set: 24\n",
      "[0, 0, 0, 0, 0, 0, 0, 0, 0, 0, 0, 0, 0, 0, 0, 0, 0, 0, 0, 0, 0, 0, 0, 0, 0, 0, 0, 0, 0, 0, 0, 1, 1, 1, 1, 1, 1, 1, 1, 1, 1, 1, 1, 0, 0, 0, 0, 0, 0, 0, 0, 0, 0, 0, 0, 0, 0, 0, 0, 0, 0, 0, 0, 0, 0, 0, 0, 0, 0, 0, 0, 0, 0, 0, 0, 0, 0, 0, 0, 0, 0, 0, 0, 0, 0, 0, 0, 0, 0, 0, 0, 0, 0, 0, 0, 0, 0, 0, 0, 0, 0, 0, 0, 0, 0, 0, 0, 0, 0, 0, 0, 0, 0, 0, 0, 0, 0, 0, 0, 0, 0, 0, 0, 0, 0, 0, 0, 0, 0, 0, 0, 0, 0, 0, 0, 0, 0, 0, 0, 0, 0, 0, 0, 0, 0, 0, 0, 0, 0, 1, 1, 1, 1, 1, 1, 1, 1, 1, 1, 1, 1, 0, 0]\n",
      "[0, 0, 0, 0, 0, 0, 0, 0, 0, 0, 0, 0, 0, 0, 0, 0, 0, 0, 0, 0, 0, 0, 0, 0, 0, 0, 0, 0, 0, 0, 0, 0, 0, 0, 0, 0, 0, 0, 0, 0, 0, 0, 0, 0, 0, 0, 0, 0, 0, 0, 0, 0, 0, 0, 0, 0, 0, 0, 0, 0, 0, 0, 0, 0, 0, 0, 0, 0, 0, 0, 0, 0, 0, 0, 0, 0, 0, 0, 0, 0, 0, 0, 0, 0, 0, 0, 0, 0, 0, 0, 0, 0, 0, 0, 0, 0, 0, 0, 0, 0, 0, 0, 0, 0, 0, 0, 0, 0, 0, 0, 0, 0, 0, 0, 0, 0, 0, 0, 0, 0, 0, 0, 0, 0, 0, 0, 0, 0, 0, 0, 0, 0, 0, 0, 0, 0, 0, 0, 0, 0, 0, 0, 0, 0, 0, 0, 0, 0, 0, 0, 0, 0, 0, 0, 0, 0, 0, 0, 0, 0, 0, 0, 0]\n",
      "--------------------------------------------------\n",
      "Accuracy: 0.26380368098159507, Precision: 0.16666666666666666, Recall: 1.0, F1: 0.2857142857142857\n",
      "[[ 19 120]\n",
      " [  0  24]]\n",
      "False labels in train set: 307; True labels in train set: 24\n",
      "False labels in test set: 139; True labels in test set: 24\n",
      "[0, 0, 0, 0, 0, 0, 0, 0, 0, 0, 0, 0, 0, 0, 0, 0, 0, 0, 0, 0, 0, 0, 0, 0, 0, 0, 0, 0, 0, 0, 0, 0, 0, 0, 0, 0, 0, 0, 0, 0, 0, 0, 0, 0, 0, 0, 0, 0, 0, 0, 0, 0, 0, 0, 0, 0, 0, 0, 0, 0, 0, 0, 1, 1, 1, 1, 1, 1, 1, 1, 1, 1, 1, 1, 0, 0, 0, 0, 0, 0, 0, 0, 0, 0, 0, 0, 0, 0, 0, 0, 0, 0, 0, 0, 0, 0, 0, 0, 0, 0, 1, 1, 1, 1, 1, 1, 1, 1, 1, 1, 1, 1, 0, 0, 0, 0, 0, 0, 0, 0, 0, 0, 0, 0, 0, 0, 0, 0, 0, 0, 0, 0, 0, 0, 0, 0, 0, 0, 0, 0, 0, 0, 0, 0, 0, 0, 0, 0, 0, 0, 0, 0, 0, 0, 0, 0, 0, 0, 0, 0, 0, 0, 0]\n",
      "[0, 0, 0, 0, 0, 0, 0, 0, 1, 1, 1, 1, 1, 1, 1, 1, 1, 1, 1, 1, 1, 1, 1, 1, 1, 1, 1, 1, 1, 1, 1, 1, 1, 1, 1, 1, 1, 1, 1, 1, 1, 1, 1, 1, 1, 1, 1, 1, 1, 1, 1, 1, 1, 1, 1, 1, 1, 1, 1, 1, 0, 1, 1, 1, 1, 1, 1, 1, 1, 1, 1, 1, 1, 1, 1, 1, 1, 1, 1, 1, 1, 1, 1, 1, 1, 1, 1, 1, 1, 1, 1, 1, 1, 1, 1, 1, 1, 1, 1, 1, 1, 1, 1, 1, 1, 1, 1, 1, 1, 1, 1, 1, 0, 0, 0, 0, 0, 0, 0, 0, 0, 0, 1, 1, 1, 1, 1, 1, 1, 1, 1, 1, 1, 1, 1, 1, 1, 1, 1, 1, 1, 1, 1, 1, 1, 1, 1, 1, 1, 1, 1, 1, 1, 1, 1, 1, 1, 1, 1, 1, 1, 1, 1]\n",
      "--------------------------------------------------\n",
      "Accuracy: 0.901840490797546, Precision: 0.0, Recall: 0.0, F1: 1.0\n",
      "[[147   4]\n",
      " [ 12   0]]\n",
      "False labels in train set: 446; True labels in train set: 48\n",
      "False labels in test set: 151; True labels in test set: 12\n",
      "[0, 0, 0, 0, 0, 0, 0, 0, 0, 0, 0, 0, 0, 0, 0, 0, 0, 0, 0, 0, 0, 0, 0, 0, 0, 0, 0, 0, 0, 0, 0, 0, 0, 0, 0, 0, 0, 0, 0, 0, 0, 0, 0, 0, 0, 0, 0, 0, 0, 0, 0, 0, 0, 1, 1, 1, 1, 1, 1, 1, 1, 1, 1, 1, 1, 0, 0, 0, 0, 0, 0, 0, 0, 0, 0, 0, 0, 0, 0, 0, 0, 0, 0, 0, 0, 0, 0, 0, 0, 0, 0, 0, 0, 0, 0, 0, 0, 0, 0, 0, 0, 0, 0, 0, 0, 0, 0, 0, 0, 0, 0, 0, 0, 0, 0, 0, 0, 0, 0, 0, 0, 0, 0, 0, 0, 0, 0, 0, 0, 0, 0, 0, 0, 0, 0, 0, 0, 0, 0, 0, 0, 0, 0, 0, 0, 0, 0, 0, 0, 0, 0, 0, 0, 0, 0, 0, 0, 0, 0, 0, 0, 0, 0]\n",
      "[0, 0, 0, 0, 0, 0, 0, 0, 0, 0, 0, 0, 0, 1, 0, 0, 0, 0, 0, 0, 0, 0, 0, 0, 0, 0, 0, 0, 0, 0, 0, 0, 0, 0, 0, 0, 0, 0, 0, 0, 0, 0, 0, 0, 0, 0, 0, 0, 0, 0, 0, 0, 0, 0, 0, 0, 0, 0, 0, 0, 0, 0, 0, 0, 0, 0, 0, 0, 0, 0, 0, 0, 0, 0, 0, 0, 0, 0, 0, 0, 0, 0, 0, 0, 0, 0, 0, 0, 0, 0, 0, 0, 0, 0, 0, 0, 0, 0, 0, 0, 0, 0, 0, 0, 0, 0, 0, 0, 0, 0, 0, 0, 0, 0, 0, 0, 0, 0, 0, 0, 0, 0, 0, 0, 0, 0, 0, 0, 0, 0, 0, 0, 0, 0, 0, 0, 0, 0, 0, 0, 1, 1, 1, 0, 0, 0, 0, 0, 0, 0, 0, 0, 0, 0, 0, 0, 0, 0, 0, 0, 0, 0, 0]\n",
      "--------------------------------------------------\n",
      "Accuracy: 0.7730061349693251, Precision: 0.08333333333333333, Recall: 0.037037037037037035, F1: 0.05128205128205128\n",
      "[[125  11]\n",
      " [ 26   1]]\n",
      "False labels in train set: 597; True labels in train set: 60\n",
      "False labels in test set: 136; True labels in test set: 27\n",
      "[0, 0, 0, 0, 0, 0, 0, 0, 0, 0, 0, 0, 0, 0, 0, 0, 0, 0, 0, 0, 0, 0, 0, 0, 0, 0, 0, 0, 0, 0, 0, 0, 0, 0, 0, 0, 0, 0, 0, 0, 0, 0, 0, 0, 0, 0, 0, 0, 0, 0, 0, 0, 0, 0, 0, 0, 0, 0, 0, 0, 0, 0, 0, 0, 0, 0, 0, 0, 0, 0, 0, 0, 0, 0, 0, 0, 0, 0, 0, 0, 0, 0, 0, 0, 0, 0, 0, 0, 0, 0, 0, 0, 0, 0, 0, 0, 0, 0, 1, 1, 1, 1, 1, 1, 1, 1, 1, 1, 1, 1, 0, 0, 1, 1, 1, 1, 1, 1, 1, 1, 1, 1, 1, 1, 1, 1, 1, 0, 0, 0, 0, 0, 0, 0, 0, 0, 0, 0, 0, 0, 0, 0, 0, 0, 0, 0, 0, 0, 0, 0, 0, 0, 0, 0, 0, 0, 0, 0, 0, 0, 0, 0, 0]\n",
      "[0, 0, 0, 0, 0, 0, 0, 0, 0, 0, 0, 0, 0, 0, 0, 0, 0, 0, 0, 0, 0, 0, 0, 0, 0, 0, 0, 0, 0, 0, 0, 0, 0, 0, 0, 0, 0, 0, 0, 0, 0, 0, 0, 0, 0, 0, 0, 0, 0, 0, 0, 0, 0, 0, 0, 0, 0, 0, 0, 0, 0, 0, 0, 0, 0, 0, 0, 0, 0, 0, 1, 1, 1, 1, 1, 1, 1, 1, 1, 1, 1, 0, 0, 0, 0, 0, 0, 0, 0, 0, 0, 0, 0, 0, 0, 0, 0, 0, 0, 0, 0, 0, 0, 0, 0, 0, 0, 0, 0, 0, 0, 0, 0, 0, 0, 1, 0, 0, 0, 0, 0, 0, 0, 0, 0, 0, 0, 0, 0, 0, 0, 0, 0, 0, 0, 0, 0, 0, 0, 0, 0, 0, 0, 0, 0, 0, 0, 0, 0, 0, 0, 0, 0, 0, 0, 0, 0, 0, 0, 0, 0, 0, 0]\n",
      "--------------------------------------------------\n",
      "Accuracy: 0.9570552147239264, Precision: 0.6666666666666666, Recall: 0.8333333333333334, F1: 0.7407407407407408\n",
      "[[146   5]\n",
      " [  2  10]]\n",
      "False labels in train set: 733; True labels in train set: 87\n",
      "False labels in test set: 151; True labels in test set: 12\n",
      "[0, 0, 0, 0, 0, 0, 0, 0, 0, 0, 0, 0, 0, 0, 0, 0, 0, 0, 0, 0, 0, 0, 0, 0, 0, 0, 0, 0, 0, 0, 0, 0, 0, 0, 0, 0, 0, 0, 0, 0, 0, 0, 0, 0, 0, 0, 0, 0, 0, 0, 0, 0, 0, 0, 0, 0, 0, 1, 1, 1, 1, 1, 1, 1, 1, 1, 1, 1, 1, 0, 0, 0, 0, 0, 0, 0, 0, 0, 0, 0, 0, 0, 0, 0, 0, 0, 0, 0, 0, 0, 0, 0, 0, 0, 0, 0, 0, 0, 0, 0, 0, 0, 0, 0, 0, 0, 0, 0, 0, 0, 0, 0, 0, 0, 0, 0, 0, 0, 0, 0, 0, 0, 0, 0, 0, 0, 0, 0, 0, 0, 0, 0, 0, 0, 0, 0, 0, 0, 0, 0, 0, 0, 0, 0, 0, 0, 0, 0, 0, 0, 0, 0, 0, 0, 0, 0, 0, 0, 0, 0, 0, 0, 0]\n",
      "[0, 0, 0, 0, 0, 0, 0, 0, 0, 0, 0, 0, 0, 0, 0, 0, 0, 0, 0, 0, 0, 0, 0, 0, 0, 0, 0, 0, 0, 0, 0, 0, 0, 0, 0, 0, 0, 0, 0, 0, 0, 0, 0, 0, 0, 0, 0, 0, 0, 0, 0, 0, 0, 0, 0, 0, 0, 0, 0, 1, 1, 1, 1, 1, 1, 1, 1, 1, 1, 0, 1, 1, 1, 0, 1, 1, 0, 0, 0, 0, 0, 0, 0, 0, 0, 0, 0, 0, 0, 0, 0, 0, 0, 0, 0, 0, 0, 0, 0, 0, 0, 0, 0, 0, 0, 0, 0, 0, 0, 0, 0, 0, 0, 0, 0, 0, 0, 0, 0, 0, 0, 0, 0, 0, 0, 0, 0, 0, 0, 0, 0, 0, 0, 0, 0, 0, 0, 0, 0, 0, 0, 0, 0, 0, 0, 0, 0, 0, 0, 0, 0, 0, 0, 0, 0, 0, 0, 0, 0, 0, 0, 0, 0]\n",
      "--------------------------------------------------\n"
     ]
    }
   ],
   "source": [
    "from sklearn.model_selection import TimeSeriesSplit\n",
    "from sklearn.ensemble import RandomForestClassifier\n",
    "from sklearn.metrics import accuracy_score, precision_score, recall_score, f1_score, confusion_matrix\n",
    "\n",
    "tscv = TimeSeriesSplit(n_splits=5)\n",
    "\n",
    "for train_index, test_index in tscv.split(tryout):\n",
    "    X_train, X_test = tryout.iloc[train_index], tryout.iloc[test_index]\n",
    "    y_train, y_test = labels.iloc[train_index], labels.iloc[test_index]\n",
    "\n",
    "    rf = RandomForestClassifier(\n",
    "        n_estimators=100,\n",
    "        criterion='entropy',\n",
    "        min_samples_split=2,\n",
    "        min_samples_leaf=1,\n",
    "        bootstrap=True\n",
    "    )\n",
    "\n",
    "    rf.fit(X_train, y_train['Labels'])\n",
    "    rf_pred = rf.predict(X_test)\n",
    "\n",
    "    accuracy_test = accuracy_score(y_test, rf_pred)\n",
    "    precision_test = precision_score(y_test, rf_pred, zero_division=1)\n",
    "    recall_test = recall_score(y_test, rf_pred, zero_division=1)\n",
    "    f1_test = f1_score(y_test, rf_pred, zero_division=1)\n",
    "    conf_test = confusion_matrix(y_test, rf_pred)\n",
    "    print(f\"Accuracy: {accuracy_test}, Precision: {precision_test}, Recall: {recall_test}, F1: {f1_test}\")\n",
    "    print(conf_test)\n",
    "    print(f\"False labels in train set: {len(y_train) - sum(y_train['Labels'])}; True labels in train set: {sum(y_train['Labels'])}\")\n",
    "    print(f\"False labels in test set: {len(y_test) - sum(y_test['Labels'])}; True labels in test set: {sum(y_test['Labels'])}\")\n",
    "    print(y_test['Labels'].to_list())\n",
    "    print(rf_pred.tolist())\n",
    "    print('--------------------------------------------------')"
   ]
  }
 ],
 "metadata": {
  "kernelspec": {
   "display_name": "Python 3",
   "language": "python",
   "name": "python3"
  },
  "language_info": {
   "codemirror_mode": {
    "name": "ipython",
    "version": 3
   },
   "file_extension": ".py",
   "mimetype": "text/x-python",
   "name": "python",
   "nbconvert_exporter": "python",
   "pygments_lexer": "ipython3",
   "version": "3.10.0"
  }
 },
 "nbformat": 4,
 "nbformat_minor": 2
}
